{
 "cells": [
  {
   "cell_type": "markdown",
   "id": "2a78e1b5",
   "metadata": {},
   "source": [
    "# Python Project Dataset:Corono_virus"
   ]
  },
  {
   "cell_type": "code",
   "execution_count": 1,
   "id": "9fb93d72",
   "metadata": {},
   "outputs": [],
   "source": [
    "import pandas as pd"
   ]
  },
  {
   "cell_type": "code",
   "execution_count": 2,
   "id": "979db669",
   "metadata": {},
   "outputs": [],
   "source": [
    "df=pd.read_csv(\"C:/Users/KUNAL/OneDrive/Desktop/Corona_virus_analyst_project/covid_19_data.csv\")"
   ]
  },
  {
   "cell_type": "code",
   "execution_count": 3,
   "id": "131a7cc9",
   "metadata": {
    "scrolled": true
   },
   "outputs": [
    {
     "data": {
      "text/html": [
       "<div>\n",
       "<style scoped>\n",
       "    .dataframe tbody tr th:only-of-type {\n",
       "        vertical-align: middle;\n",
       "    }\n",
       "\n",
       "    .dataframe tbody tr th {\n",
       "        vertical-align: top;\n",
       "    }\n",
       "\n",
       "    .dataframe thead th {\n",
       "        text-align: right;\n",
       "    }\n",
       "</style>\n",
       "<table border=\"1\" class=\"dataframe\">\n",
       "  <thead>\n",
       "    <tr style=\"text-align: right;\">\n",
       "      <th></th>\n",
       "      <th>SNo</th>\n",
       "      <th>ObservationDate</th>\n",
       "      <th>Province/State</th>\n",
       "      <th>Country/Region</th>\n",
       "      <th>Last Update</th>\n",
       "      <th>Confirmed</th>\n",
       "      <th>Deaths</th>\n",
       "      <th>Recovered</th>\n",
       "    </tr>\n",
       "  </thead>\n",
       "  <tbody>\n",
       "    <tr>\n",
       "      <th>0</th>\n",
       "      <td>1</td>\n",
       "      <td>01/22/2020</td>\n",
       "      <td>Anhui</td>\n",
       "      <td>Mainland China</td>\n",
       "      <td>1/22/2020 17:00</td>\n",
       "      <td>1.0</td>\n",
       "      <td>0.0</td>\n",
       "      <td>0.0</td>\n",
       "    </tr>\n",
       "    <tr>\n",
       "      <th>1</th>\n",
       "      <td>2</td>\n",
       "      <td>01/22/2020</td>\n",
       "      <td>Beijing</td>\n",
       "      <td>Mainland China</td>\n",
       "      <td>1/22/2020 17:00</td>\n",
       "      <td>14.0</td>\n",
       "      <td>0.0</td>\n",
       "      <td>0.0</td>\n",
       "    </tr>\n",
       "    <tr>\n",
       "      <th>2</th>\n",
       "      <td>3</td>\n",
       "      <td>01/22/2020</td>\n",
       "      <td>Chongqing</td>\n",
       "      <td>Mainland China</td>\n",
       "      <td>1/22/2020 17:00</td>\n",
       "      <td>6.0</td>\n",
       "      <td>0.0</td>\n",
       "      <td>0.0</td>\n",
       "    </tr>\n",
       "    <tr>\n",
       "      <th>3</th>\n",
       "      <td>4</td>\n",
       "      <td>01/22/2020</td>\n",
       "      <td>Fujian</td>\n",
       "      <td>Mainland China</td>\n",
       "      <td>1/22/2020 17:00</td>\n",
       "      <td>1.0</td>\n",
       "      <td>0.0</td>\n",
       "      <td>0.0</td>\n",
       "    </tr>\n",
       "    <tr>\n",
       "      <th>4</th>\n",
       "      <td>5</td>\n",
       "      <td>01/22/2020</td>\n",
       "      <td>Gansu</td>\n",
       "      <td>Mainland China</td>\n",
       "      <td>1/22/2020 17:00</td>\n",
       "      <td>0.0</td>\n",
       "      <td>0.0</td>\n",
       "      <td>0.0</td>\n",
       "    </tr>\n",
       "    <tr>\n",
       "      <th>...</th>\n",
       "      <td>...</td>\n",
       "      <td>...</td>\n",
       "      <td>...</td>\n",
       "      <td>...</td>\n",
       "      <td>...</td>\n",
       "      <td>...</td>\n",
       "      <td>...</td>\n",
       "      <td>...</td>\n",
       "    </tr>\n",
       "    <tr>\n",
       "      <th>306424</th>\n",
       "      <td>306425</td>\n",
       "      <td>05/29/2021</td>\n",
       "      <td>Zaporizhia Oblast</td>\n",
       "      <td>Ukraine</td>\n",
       "      <td>2021-05-30 04:20:55</td>\n",
       "      <td>102641.0</td>\n",
       "      <td>2335.0</td>\n",
       "      <td>95289.0</td>\n",
       "    </tr>\n",
       "    <tr>\n",
       "      <th>306425</th>\n",
       "      <td>306426</td>\n",
       "      <td>05/29/2021</td>\n",
       "      <td>Zeeland</td>\n",
       "      <td>Netherlands</td>\n",
       "      <td>2021-05-30 04:20:55</td>\n",
       "      <td>29147.0</td>\n",
       "      <td>245.0</td>\n",
       "      <td>0.0</td>\n",
       "    </tr>\n",
       "    <tr>\n",
       "      <th>306426</th>\n",
       "      <td>306427</td>\n",
       "      <td>05/29/2021</td>\n",
       "      <td>Zhejiang</td>\n",
       "      <td>Mainland China</td>\n",
       "      <td>2021-05-30 04:20:55</td>\n",
       "      <td>1364.0</td>\n",
       "      <td>1.0</td>\n",
       "      <td>1324.0</td>\n",
       "    </tr>\n",
       "    <tr>\n",
       "      <th>306427</th>\n",
       "      <td>306428</td>\n",
       "      <td>05/29/2021</td>\n",
       "      <td>Zhytomyr Oblast</td>\n",
       "      <td>Ukraine</td>\n",
       "      <td>2021-05-30 04:20:55</td>\n",
       "      <td>87550.0</td>\n",
       "      <td>1738.0</td>\n",
       "      <td>83790.0</td>\n",
       "    </tr>\n",
       "    <tr>\n",
       "      <th>306428</th>\n",
       "      <td>306429</td>\n",
       "      <td>05/29/2021</td>\n",
       "      <td>Zuid-Holland</td>\n",
       "      <td>Netherlands</td>\n",
       "      <td>2021-05-30 04:20:55</td>\n",
       "      <td>391559.0</td>\n",
       "      <td>4252.0</td>\n",
       "      <td>0.0</td>\n",
       "    </tr>\n",
       "  </tbody>\n",
       "</table>\n",
       "<p>306429 rows × 8 columns</p>\n",
       "</div>"
      ],
      "text/plain": [
       "           SNo ObservationDate     Province/State  Country/Region  \\\n",
       "0            1      01/22/2020              Anhui  Mainland China   \n",
       "1            2      01/22/2020            Beijing  Mainland China   \n",
       "2            3      01/22/2020          Chongqing  Mainland China   \n",
       "3            4      01/22/2020             Fujian  Mainland China   \n",
       "4            5      01/22/2020              Gansu  Mainland China   \n",
       "...        ...             ...                ...             ...   \n",
       "306424  306425      05/29/2021  Zaporizhia Oblast         Ukraine   \n",
       "306425  306426      05/29/2021            Zeeland     Netherlands   \n",
       "306426  306427      05/29/2021           Zhejiang  Mainland China   \n",
       "306427  306428      05/29/2021    Zhytomyr Oblast         Ukraine   \n",
       "306428  306429      05/29/2021       Zuid-Holland     Netherlands   \n",
       "\n",
       "                Last Update  Confirmed  Deaths  Recovered  \n",
       "0           1/22/2020 17:00        1.0     0.0        0.0  \n",
       "1           1/22/2020 17:00       14.0     0.0        0.0  \n",
       "2           1/22/2020 17:00        6.0     0.0        0.0  \n",
       "3           1/22/2020 17:00        1.0     0.0        0.0  \n",
       "4           1/22/2020 17:00        0.0     0.0        0.0  \n",
       "...                     ...        ...     ...        ...  \n",
       "306424  2021-05-30 04:20:55   102641.0  2335.0    95289.0  \n",
       "306425  2021-05-30 04:20:55    29147.0   245.0        0.0  \n",
       "306426  2021-05-30 04:20:55     1364.0     1.0     1324.0  \n",
       "306427  2021-05-30 04:20:55    87550.0  1738.0    83790.0  \n",
       "306428  2021-05-30 04:20:55   391559.0  4252.0        0.0  \n",
       "\n",
       "[306429 rows x 8 columns]"
      ]
     },
     "execution_count": 3,
     "metadata": {},
     "output_type": "execute_result"
    }
   ],
   "source": [
    "df"
   ]
  },
  {
   "cell_type": "code",
   "execution_count": null,
   "id": "5e5f6681",
   "metadata": {},
   "outputs": [],
   "source": [
    "# What is the total number of confirmed cases worldwide?"
   ]
  },
  {
   "cell_type": "code",
   "execution_count": 5,
   "id": "19886faa",
   "metadata": {},
   "outputs": [],
   "source": [
    "total_confirmed = df['Confirmed'].sum()"
   ]
  },
  {
   "cell_type": "code",
   "execution_count": 6,
   "id": "e6d30d04",
   "metadata": {},
   "outputs": [
    {
     "data": {
      "text/plain": [
       "26252051758.0"
      ]
     },
     "execution_count": 6,
     "metadata": {},
     "output_type": "execute_result"
    }
   ],
   "source": [
    "total_confirmed"
   ]
  },
  {
   "cell_type": "code",
   "execution_count": null,
   "id": "d7ea0f0f",
   "metadata": {},
   "outputs": [],
   "source": [
    "# How many deaths have been reported globally?"
   ]
  },
  {
   "cell_type": "code",
   "execution_count": 9,
   "id": "732308f1",
   "metadata": {},
   "outputs": [],
   "source": [
    "total_deaths = df['Deaths'].sum()"
   ]
  },
  {
   "cell_type": "code",
   "execution_count": 10,
   "id": "857b117d",
   "metadata": {},
   "outputs": [
    {
     "data": {
      "text/plain": [
       "624013017.0"
      ]
     },
     "execution_count": 10,
     "metadata": {},
     "output_type": "execute_result"
    }
   ],
   "source": [
    "total_deaths"
   ]
  },
  {
   "cell_type": "code",
   "execution_count": null,
   "id": "1c0bdf1c",
   "metadata": {},
   "outputs": [],
   "source": [
    "# What is the total number of recovered cases worldwide?"
   ]
  },
  {
   "cell_type": "code",
   "execution_count": 11,
   "id": "c32aa05c",
   "metadata": {},
   "outputs": [],
   "source": [
    "total_recovered = df['Recovered'].sum()"
   ]
  },
  {
   "cell_type": "code",
   "execution_count": 12,
   "id": "98dd778d",
   "metadata": {},
   "outputs": [
    {
     "data": {
      "text/plain": [
       "15450237912.0"
      ]
     },
     "execution_count": 12,
     "metadata": {},
     "output_type": "execute_result"
    }
   ],
   "source": [
    "total_recovered"
   ]
  },
  {
   "cell_type": "code",
   "execution_count": null,
   "id": "0d0e1456",
   "metadata": {},
   "outputs": [],
   "source": [
    "# How many countries/regions are represented in the dataset?"
   ]
  },
  {
   "cell_type": "code",
   "execution_count": 14,
   "id": "df0255d8",
   "metadata": {},
   "outputs": [],
   "source": [
    "num_countries = df['Country/Region'].count()"
   ]
  },
  {
   "cell_type": "code",
   "execution_count": 15,
   "id": "5b5bd499",
   "metadata": {},
   "outputs": [
    {
     "data": {
      "text/plain": [
       "306429"
      ]
     },
     "execution_count": 15,
     "metadata": {},
     "output_type": "execute_result"
    }
   ],
   "source": [
    "num_countries"
   ]
  },
  {
   "cell_type": "code",
   "execution_count": null,
   "id": "bf558894",
   "metadata": {},
   "outputs": [],
   "source": [
    "# What is the trend of confirmed cases over time globally?"
   ]
  },
  {
   "cell_type": "code",
   "execution_count": 16,
   "id": "d0fd3e94",
   "metadata": {},
   "outputs": [],
   "source": [
    "trend_confirmed = df.groupby('ObservationDate')['Confirmed'].sum().reset_index()"
   ]
  },
  {
   "cell_type": "code",
   "execution_count": 17,
   "id": "b7784504",
   "metadata": {},
   "outputs": [
    {
     "data": {
      "text/html": [
       "<div>\n",
       "<style scoped>\n",
       "    .dataframe tbody tr th:only-of-type {\n",
       "        vertical-align: middle;\n",
       "    }\n",
       "\n",
       "    .dataframe tbody tr th {\n",
       "        vertical-align: top;\n",
       "    }\n",
       "\n",
       "    .dataframe thead th {\n",
       "        text-align: right;\n",
       "    }\n",
       "</style>\n",
       "<table border=\"1\" class=\"dataframe\">\n",
       "  <thead>\n",
       "    <tr style=\"text-align: right;\">\n",
       "      <th></th>\n",
       "      <th>ObservationDate</th>\n",
       "      <th>Confirmed</th>\n",
       "    </tr>\n",
       "  </thead>\n",
       "  <tbody>\n",
       "    <tr>\n",
       "      <th>0</th>\n",
       "      <td>01/01/2021</td>\n",
       "      <td>84092619.0</td>\n",
       "    </tr>\n",
       "    <tr>\n",
       "      <th>1</th>\n",
       "      <td>01/02/2021</td>\n",
       "      <td>84718978.0</td>\n",
       "    </tr>\n",
       "    <tr>\n",
       "      <th>2</th>\n",
       "      <td>01/03/2021</td>\n",
       "      <td>85251774.0</td>\n",
       "    </tr>\n",
       "    <tr>\n",
       "      <th>3</th>\n",
       "      <td>01/04/2021</td>\n",
       "      <td>85805892.0</td>\n",
       "    </tr>\n",
       "    <tr>\n",
       "      <th>4</th>\n",
       "      <td>01/05/2021</td>\n",
       "      <td>86546014.0</td>\n",
       "    </tr>\n",
       "    <tr>\n",
       "      <th>...</th>\n",
       "      <td>...</td>\n",
       "      <td>...</td>\n",
       "    </tr>\n",
       "    <tr>\n",
       "      <th>489</th>\n",
       "      <td>12/27/2020</td>\n",
       "      <td>80912611.0</td>\n",
       "    </tr>\n",
       "    <tr>\n",
       "      <th>490</th>\n",
       "      <td>12/28/2020</td>\n",
       "      <td>81408934.0</td>\n",
       "    </tr>\n",
       "    <tr>\n",
       "      <th>491</th>\n",
       "      <td>12/29/2020</td>\n",
       "      <td>82073362.0</td>\n",
       "    </tr>\n",
       "    <tr>\n",
       "      <th>492</th>\n",
       "      <td>12/30/2020</td>\n",
       "      <td>82834592.0</td>\n",
       "    </tr>\n",
       "    <tr>\n",
       "      <th>493</th>\n",
       "      <td>12/31/2020</td>\n",
       "      <td>83559601.0</td>\n",
       "    </tr>\n",
       "  </tbody>\n",
       "</table>\n",
       "<p>494 rows × 2 columns</p>\n",
       "</div>"
      ],
      "text/plain": [
       "    ObservationDate   Confirmed\n",
       "0        01/01/2021  84092619.0\n",
       "1        01/02/2021  84718978.0\n",
       "2        01/03/2021  85251774.0\n",
       "3        01/04/2021  85805892.0\n",
       "4        01/05/2021  86546014.0\n",
       "..              ...         ...\n",
       "489      12/27/2020  80912611.0\n",
       "490      12/28/2020  81408934.0\n",
       "491      12/29/2020  82073362.0\n",
       "492      12/30/2020  82834592.0\n",
       "493      12/31/2020  83559601.0\n",
       "\n",
       "[494 rows x 2 columns]"
      ]
     },
     "execution_count": 17,
     "metadata": {},
     "output_type": "execute_result"
    }
   ],
   "source": [
    "trend_confirmed  "
   ]
  },
  {
   "cell_type": "code",
   "execution_count": null,
   "id": "819024c2",
   "metadata": {},
   "outputs": [],
   "source": [
    "# Interpretaion: The data shows a steady increase in confirmed cases over time."
   ]
  },
  {
   "cell_type": "code",
   "execution_count": null,
   "id": "e7cb44ea",
   "metadata": {},
   "outputs": [],
   "source": [
    "# Which province/state has reported the highest number of confirmed cases?"
   ]
  },
  {
   "cell_type": "code",
   "execution_count": 20,
   "id": "fa30df23",
   "metadata": {},
   "outputs": [],
   "source": [
    "highest_confirmed_province = df.groupby('Province/State')['Confirmed'].sum().idxmax()"
   ]
  },
  {
   "cell_type": "code",
   "execution_count": 21,
   "id": "136be0a6",
   "metadata": {},
   "outputs": [
    {
     "data": {
      "text/plain": [
       "'California'"
      ]
     },
     "execution_count": 21,
     "metadata": {},
     "output_type": "execute_result"
    }
   ],
   "source": [
    "highest_confirmed_province"
   ]
  },
  {
   "cell_type": "code",
   "execution_count": null,
   "id": "178ce787",
   "metadata": {},
   "outputs": [],
   "source": [
    "# Which country/region has the highest number of deaths?"
   ]
  },
  {
   "cell_type": "code",
   "execution_count": 22,
   "id": "6c854b24",
   "metadata": {},
   "outputs": [],
   "source": [
    "highest_deaths_country = df.groupby('Country/Region')['Deaths'].sum().idxmax()"
   ]
  },
  {
   "cell_type": "code",
   "execution_count": 23,
   "id": "c1219fd4",
   "metadata": {},
   "outputs": [
    {
     "data": {
      "text/plain": [
       "'US'"
      ]
     },
     "execution_count": 23,
     "metadata": {},
     "output_type": "execute_result"
    }
   ],
   "source": [
    "highest_deaths_country"
   ]
  },
  {
   "cell_type": "code",
   "execution_count": null,
   "id": "6f2c6b1f",
   "metadata": {},
   "outputs": [],
   "source": [
    "# How does the number of confirmed cases vary across different provinces/states?"
   ]
  },
  {
   "cell_type": "code",
   "execution_count": 25,
   "id": "6fd85e76",
   "metadata": {},
   "outputs": [],
   "source": [
    "confirmed_cases_by_province = df.groupby('Province/State')['Confirmed'].sum().sort_values(ascending=False)"
   ]
  },
  {
   "cell_type": "code",
   "execution_count": 26,
   "id": "9e0fae83",
   "metadata": {},
   "outputs": [
    {
     "data": {
      "text/plain": [
       "Province/State\n",
       "California               696898013.0\n",
       "Maharashtra              681186928.0\n",
       "England                  666227518.0\n",
       "Texas                    552039886.0\n",
       "Sao Paulo                521308945.0\n",
       "                            ...     \n",
       "American Samoa                   0.0\n",
       "Jervis Bay Territory             0.0\n",
       "Recovered                        0.0\n",
       "Montgomery County, TX            0.0\n",
       "External territories             0.0\n",
       "Name: Confirmed, Length: 736, dtype: float64"
      ]
     },
     "execution_count": 26,
     "metadata": {},
     "output_type": "execute_result"
    }
   ],
   "source": [
    "confirmed_cases_by_province  "
   ]
  },
  {
   "cell_type": "code",
   "execution_count": null,
   "id": "3c6ce550",
   "metadata": {},
   "outputs": [],
   "source": [
    "# Interpretation: The number of confirmed cases varies significantly across different provinces/states."
   ]
  },
  {
   "cell_type": "code",
   "execution_count": null,
   "id": "2b7ed1fe",
   "metadata": {},
   "outputs": [],
   "source": [
    "# What is the trend of deaths over time globally?"
   ]
  },
  {
   "cell_type": "code",
   "execution_count": 27,
   "id": "cbe380e6",
   "metadata": {},
   "outputs": [],
   "source": [
    "trend_deaths = df.groupby('ObservationDate')['Deaths'].sum().reset_index()"
   ]
  },
  {
   "cell_type": "code",
   "execution_count": 34,
   "id": "88be7a5e",
   "metadata": {},
   "outputs": [
    {
     "data": {
      "text/html": [
       "<div>\n",
       "<style scoped>\n",
       "    .dataframe tbody tr th:only-of-type {\n",
       "        vertical-align: middle;\n",
       "    }\n",
       "\n",
       "    .dataframe tbody tr th {\n",
       "        vertical-align: top;\n",
       "    }\n",
       "\n",
       "    .dataframe thead th {\n",
       "        text-align: right;\n",
       "    }\n",
       "</style>\n",
       "<table border=\"1\" class=\"dataframe\">\n",
       "  <thead>\n",
       "    <tr style=\"text-align: right;\">\n",
       "      <th></th>\n",
       "      <th>ObservationDate</th>\n",
       "      <th>Deaths</th>\n",
       "    </tr>\n",
       "  </thead>\n",
       "  <tbody>\n",
       "    <tr>\n",
       "      <th>0</th>\n",
       "      <td>01/01/2021</td>\n",
       "      <td>1834675.0</td>\n",
       "    </tr>\n",
       "    <tr>\n",
       "      <th>1</th>\n",
       "      <td>01/02/2021</td>\n",
       "      <td>1843108.0</td>\n",
       "    </tr>\n",
       "    <tr>\n",
       "      <th>2</th>\n",
       "      <td>01/03/2021</td>\n",
       "      <td>1850449.0</td>\n",
       "    </tr>\n",
       "    <tr>\n",
       "      <th>3</th>\n",
       "      <td>01/04/2021</td>\n",
       "      <td>1860598.0</td>\n",
       "    </tr>\n",
       "    <tr>\n",
       "      <th>4</th>\n",
       "      <td>01/05/2021</td>\n",
       "      <td>1875953.0</td>\n",
       "    </tr>\n",
       "  </tbody>\n",
       "</table>\n",
       "</div>"
      ],
      "text/plain": [
       "  ObservationDate     Deaths\n",
       "0      01/01/2021  1834675.0\n",
       "1      01/02/2021  1843108.0\n",
       "2      01/03/2021  1850449.0\n",
       "3      01/04/2021  1860598.0\n",
       "4      01/05/2021  1875953.0"
      ]
     },
     "execution_count": 34,
     "metadata": {},
     "output_type": "execute_result"
    }
   ],
   "source": [
    "trend_deaths.head()   "
   ]
  },
  {
   "cell_type": "code",
   "execution_count": null,
   "id": "2389305e",
   "metadata": {},
   "outputs": [],
   "source": [
    "# Interpretation: The trend of deaths over time globally shows a steady increase, indicating the ongoing and rising impact of the COVID-19 pandemic."
   ]
  },
  {
   "cell_type": "code",
   "execution_count": null,
   "id": "2858e602",
   "metadata": {},
   "outputs": [],
   "source": [
    "# Which country/region has the highest number of recovered cases?"
   ]
  },
  {
   "cell_type": "code",
   "execution_count": 29,
   "id": "8edc4ddc",
   "metadata": {},
   "outputs": [],
   "source": [
    "highest_recovered_country = df.groupby('Country/Region')['Recovered'].sum().idxmax()"
   ]
  },
  {
   "cell_type": "code",
   "execution_count": 30,
   "id": "a17dab4b",
   "metadata": {},
   "outputs": [
    {
     "data": {
      "text/plain": [
       "'India'"
      ]
     },
     "execution_count": 30,
     "metadata": {},
     "output_type": "execute_result"
    }
   ],
   "source": [
    "highest_recovered_country"
   ]
  },
  {
   "cell_type": "code",
   "execution_count": null,
   "id": "4096ae05",
   "metadata": {},
   "outputs": [],
   "source": [
    "# How does the number of recovered cases vary across different countries/regions?"
   ]
  },
  {
   "cell_type": "code",
   "execution_count": 31,
   "id": "7826e0b1",
   "metadata": {},
   "outputs": [],
   "source": [
    "recovered_cases_by_country = df.groupby('Country/Region')['Recovered'].sum().sort_values(ascending=False)"
   ]
  },
  {
   "cell_type": "code",
   "execution_count": 33,
   "id": "6ae380ba",
   "metadata": {},
   "outputs": [
    {
     "data": {
      "text/plain": [
       "Country/Region\n",
       "India     2.900590e+09\n",
       "Brazil    2.313677e+09\n",
       "Russia    7.907057e+08\n",
       "Turkey    5.641706e+08\n",
       "US        5.033710e+08\n",
       "Name: Recovered, dtype: float64"
      ]
     },
     "execution_count": 33,
     "metadata": {},
     "output_type": "execute_result"
    }
   ],
   "source": [
    "recovered_cases_by_country.head()"
   ]
  },
  {
   "cell_type": "code",
   "execution_count": null,
   "id": "5037c331",
   "metadata": {},
   "outputs": [],
   "source": [
    "# Interpretation : The number of recovered cases varies significantly across different countries/regions, with some countries like the United States, India, and Brazil reporting the highest recovery numbers, reflecting their extensive outbreaks and recovery efforts."
   ]
  },
  {
   "cell_type": "code",
   "execution_count": null,
   "id": "d6fa2dc3",
   "metadata": {},
   "outputs": [],
   "source": [
    "# What is the distribution of confirmed cases by country/region?"
   ]
  },
  {
   "cell_type": "code",
   "execution_count": 35,
   "id": "f098ef70",
   "metadata": {},
   "outputs": [],
   "source": [
    "confirmed_cases_by_country = df.groupby('Country/Region')['Confirmed'].sum().sort_values(ascending=False)"
   ]
  },
  {
   "cell_type": "code",
   "execution_count": 36,
   "id": "04e376c9",
   "metadata": {},
   "outputs": [
    {
     "data": {
      "text/plain": [
       "Country/Region\n",
       "US                       6.049146e+09\n",
       "India                    3.226768e+09\n",
       "Brazil                   2.653588e+09\n",
       "Russia                   9.305488e+08\n",
       "France                   8.551890e+08\n",
       "                             ...     \n",
       "Cape Verde               1.000000e+00\n",
       "The Gambia               1.000000e+00\n",
       "Republic of the Congo    1.000000e+00\n",
       " Azerbaijan              1.000000e+00\n",
       "China                    0.000000e+00\n",
       "Name: Confirmed, Length: 229, dtype: float64"
      ]
     },
     "execution_count": 36,
     "metadata": {},
     "output_type": "execute_result"
    }
   ],
   "source": [
    "confirmed_cases_by_country"
   ]
  },
  {
   "cell_type": "code",
   "execution_count": null,
   "id": "2b98dbee",
   "metadata": {},
   "outputs": [],
   "source": [
    "# Interpretation : The distribution of confirmed cases by country/region is highly uneven, with countries such as the United States, India, and Brazil having the highest numbers, indicating they are major centers of the pandemic."
   ]
  },
  {
   "cell_type": "code",
   "execution_count": null,
   "id": "0df1f4a7",
   "metadata": {},
   "outputs": [],
   "source": [
    "# Is there a correlation between the number of confirmed cases and deaths?"
   ]
  },
  {
   "cell_type": "code",
   "execution_count": 42,
   "id": "032ccd89",
   "metadata": {},
   "outputs": [],
   "source": [
    "correlation_confirmed_deaths = df[['Confirmed', 'Deaths']].corr().iloc[0,1]"
   ]
  },
  {
   "cell_type": "code",
   "execution_count": 43,
   "id": "3e664467",
   "metadata": {},
   "outputs": [
    {
     "data": {
      "text/plain": [
       "0.8884159872096549"
      ]
     },
     "execution_count": 43,
     "metadata": {},
     "output_type": "execute_result"
    }
   ],
   "source": [
    "correlation_confirmed_deaths"
   ]
  },
  {
   "cell_type": "code",
   "execution_count": null,
   "id": "a46f52ab",
   "metadata": {},
   "outputs": [],
   "source": [
    "# Interpretation : Yes, there is a positive correlation between the number of confirmed cases and deaths, suggesting that regions with higher confirmed cases also tend to have higher death counts."
   ]
  },
  {
   "cell_type": "code",
   "execution_count": null,
   "id": "62cc1189",
   "metadata": {},
   "outputs": [],
   "source": [
    "# Is there a correlation between the number of confirmed cases and recovered cases?"
   ]
  },
  {
   "cell_type": "code",
   "execution_count": 44,
   "id": "7c05e118",
   "metadata": {},
   "outputs": [],
   "source": [
    "correlation_confirmed_recovered = df[['Confirmed', 'Recovered']].corr().iloc[0, 1]"
   ]
  },
  {
   "cell_type": "code",
   "execution_count": 45,
   "id": "52fdd20e",
   "metadata": {},
   "outputs": [
    {
     "data": {
      "text/plain": [
       "0.6334793001461968"
      ]
     },
     "execution_count": 45,
     "metadata": {},
     "output_type": "execute_result"
    }
   ],
   "source": [
    "correlation_confirmed_recovered"
   ]
  },
  {
   "cell_type": "code",
   "execution_count": null,
   "id": "b0b1526d",
   "metadata": {},
   "outputs": [],
   "source": [
    "# Interpretation : Yes, there is a positive correlation between the number of confirmed cases and recovered cases, indicating that regions with more confirmed cases also tend to report more recoveries"
   ]
  },
  {
   "cell_type": "code",
   "execution_count": null,
   "id": "75510d85",
   "metadata": {},
   "outputs": [],
   "source": [
    "# How does the mortality rate vary across different countries/regions?"
   ]
  },
  {
   "cell_type": "code",
   "execution_count": 46,
   "id": "c2c3d1fb",
   "metadata": {},
   "outputs": [],
   "source": [
    "mortality_rate_by_country = (df.groupby('Country/Region')['Deaths'].sum() / df.groupby('Country/Region')['Confirmed'].sum()).sort_values(ascending=False)"
   ]
  },
  {
   "cell_type": "code",
   "execution_count": 47,
   "id": "135a6383",
   "metadata": {},
   "outputs": [
    {
     "data": {
      "text/plain": [
       "Country/Region\n",
       "Yemen                             0.246982\n",
       "MS Zaandam                        0.221757\n",
       "Vanuatu                           0.096059\n",
       "Mexico                            0.093396\n",
       "Sudan                             0.064030\n",
       "                                    ...   \n",
       "Macau                             0.000000\n",
       "('St. Martin',)                   0.000000\n",
       "Kiribati                          0.000000\n",
       "occupied Palestinian territory    0.000000\n",
       "China                                  NaN\n",
       "Length: 229, dtype: float64"
      ]
     },
     "execution_count": 47,
     "metadata": {},
     "output_type": "execute_result"
    }
   ],
   "source": [
    "mortality_rate_by_country"
   ]
  },
  {
   "cell_type": "code",
   "execution_count": null,
   "id": "6177b272",
   "metadata": {},
   "outputs": [],
   "source": [
    "# Interpretation: The mortality rate varies significantly across different countries/regions, reflecting disparities in healthcare systems, demographic factors, and the effectiveness of pandemic response measures."
   ]
  },
  {
   "cell_type": "code",
   "execution_count": null,
   "id": "fc099472",
   "metadata": {},
   "outputs": [],
   "source": [
    "# How does the recovery rate vary across different countries/regions?"
   ]
  },
  {
   "cell_type": "code",
   "execution_count": 48,
   "id": "bcaeb71e",
   "metadata": {},
   "outputs": [],
   "source": [
    "recovery_rate_by_country = (df.groupby('Country/Region')['Recovered'].sum() / df.groupby('Country/Region')['Confirmed'].sum()).sort_values(ascending=False)"
   ]
  },
  {
   "cell_type": "code",
   "execution_count": 49,
   "id": "9586b52f",
   "metadata": {},
   "outputs": [
    {
     "data": {
      "text/plain": [
       "Country/Region\n",
       "Uzbekistan                        0.947230\n",
       "Ghana                             0.942344\n",
       "Diamond Princess                  0.940392\n",
       "Micronesia                        0.937984\n",
       "Iceland                           0.937645\n",
       "                                    ...   \n",
       "Republic of Ireland               0.000000\n",
       "Republic of the Congo             0.000000\n",
       "Reunion                           0.000000\n",
       "occupied Palestinian territory    0.000000\n",
       "China                                  NaN\n",
       "Length: 229, dtype: float64"
      ]
     },
     "execution_count": 49,
     "metadata": {},
     "output_type": "execute_result"
    }
   ],
   "source": [
    "recovery_rate_by_country"
   ]
  },
  {
   "cell_type": "code",
   "execution_count": null,
   "id": "93651636",
   "metadata": {},
   "outputs": [],
   "source": [
    "# Interpretation : The recovery rate varies widely across different countries/regions, indicating differences in healthcare quality, availability of medical resources, and the overall effectiveness of treatment protocols."
   ]
  },
  {
   "cell_type": "code",
   "execution_count": null,
   "id": "218134c6",
   "metadata": {},
   "outputs": [],
   "source": [
    "# What is the trend of new confirmed cases over time globally?"
   ]
  },
  {
   "cell_type": "code",
   "execution_count": 50,
   "id": "7caa739d",
   "metadata": {},
   "outputs": [],
   "source": [
    "df['New Confirmed'] = df.groupby('Country/Region')['Confirmed'].diff().fillna(0)"
   ]
  },
  {
   "cell_type": "code",
   "execution_count": 51,
   "id": "847e8807",
   "metadata": {},
   "outputs": [],
   "source": [
    "trend_new_confirmed = df.groupby('ObservationDate')['New Confirmed'].sum().reset_index()"
   ]
  },
  {
   "cell_type": "code",
   "execution_count": 52,
   "id": "3110a3f5",
   "metadata": {},
   "outputs": [
    {
     "data": {
      "text/html": [
       "<div>\n",
       "<style scoped>\n",
       "    .dataframe tbody tr th:only-of-type {\n",
       "        vertical-align: middle;\n",
       "    }\n",
       "\n",
       "    .dataframe tbody tr th {\n",
       "        vertical-align: top;\n",
       "    }\n",
       "\n",
       "    .dataframe thead th {\n",
       "        text-align: right;\n",
       "    }\n",
       "</style>\n",
       "<table border=\"1\" class=\"dataframe\">\n",
       "  <thead>\n",
       "    <tr style=\"text-align: right;\">\n",
       "      <th></th>\n",
       "      <th>ObservationDate</th>\n",
       "      <th>New Confirmed</th>\n",
       "    </tr>\n",
       "  </thead>\n",
       "  <tbody>\n",
       "    <tr>\n",
       "      <th>0</th>\n",
       "      <td>01/01/2021</td>\n",
       "      <td>153931.0</td>\n",
       "    </tr>\n",
       "    <tr>\n",
       "      <th>1</th>\n",
       "      <td>01/02/2021</td>\n",
       "      <td>127372.0</td>\n",
       "    </tr>\n",
       "    <tr>\n",
       "      <th>2</th>\n",
       "      <td>01/03/2021</td>\n",
       "      <td>129318.0</td>\n",
       "    </tr>\n",
       "    <tr>\n",
       "      <th>3</th>\n",
       "      <td>01/04/2021</td>\n",
       "      <td>151641.0</td>\n",
       "    </tr>\n",
       "    <tr>\n",
       "      <th>4</th>\n",
       "      <td>01/05/2021</td>\n",
       "      <td>187574.0</td>\n",
       "    </tr>\n",
       "    <tr>\n",
       "      <th>...</th>\n",
       "      <td>...</td>\n",
       "      <td>...</td>\n",
       "    </tr>\n",
       "    <tr>\n",
       "      <th>489</th>\n",
       "      <td>12/27/2020</td>\n",
       "      <td>116345.0</td>\n",
       "    </tr>\n",
       "    <tr>\n",
       "      <th>490</th>\n",
       "      <td>12/28/2020</td>\n",
       "      <td>130998.0</td>\n",
       "    </tr>\n",
       "    <tr>\n",
       "      <th>491</th>\n",
       "      <td>12/29/2020</td>\n",
       "      <td>171001.0</td>\n",
       "    </tr>\n",
       "    <tr>\n",
       "      <th>492</th>\n",
       "      <td>12/30/2020</td>\n",
       "      <td>218340.0</td>\n",
       "    </tr>\n",
       "    <tr>\n",
       "      <th>493</th>\n",
       "      <td>12/31/2020</td>\n",
       "      <td>202332.0</td>\n",
       "    </tr>\n",
       "  </tbody>\n",
       "</table>\n",
       "<p>494 rows × 2 columns</p>\n",
       "</div>"
      ],
      "text/plain": [
       "    ObservationDate  New Confirmed\n",
       "0        01/01/2021       153931.0\n",
       "1        01/02/2021       127372.0\n",
       "2        01/03/2021       129318.0\n",
       "3        01/04/2021       151641.0\n",
       "4        01/05/2021       187574.0\n",
       "..              ...            ...\n",
       "489      12/27/2020       116345.0\n",
       "490      12/28/2020       130998.0\n",
       "491      12/29/2020       171001.0\n",
       "492      12/30/2020       218340.0\n",
       "493      12/31/2020       202332.0\n",
       "\n",
       "[494 rows x 2 columns]"
      ]
     },
     "execution_count": 52,
     "metadata": {},
     "output_type": "execute_result"
    }
   ],
   "source": [
    "trend_new_confirmed"
   ]
  },
  {
   "cell_type": "code",
   "execution_count": null,
   "id": "a21d4b41",
   "metadata": {},
   "outputs": [],
   "source": [
    "# Interpretation : The trend of new confirmed cases over time globally shows fluctuations, reflecting the dynamic nature of the pandemic with periods of increase and decrease influenced by factors such as public health measures, virus variants, and vaccination rates."
   ]
  },
  {
   "cell_type": "code",
   "execution_count": null,
   "id": "aed7bb16",
   "metadata": {},
   "outputs": [],
   "source": [
    "# How does the fatality rate vary across different provinces/states?"
   ]
  },
  {
   "cell_type": "code",
   "execution_count": 53,
   "id": "fa9aa89d",
   "metadata": {},
   "outputs": [],
   "source": [
    "fatality_rate_by_province = (df.groupby('Province/State')['Deaths'].sum() / df.groupby('Province/State')['Confirmed'].sum()).sort_values(ascending=False)"
   ]
  },
  {
   "cell_type": "code",
   "execution_count": 54,
   "id": "780f7b90",
   "metadata": {},
   "outputs": [
    {
     "data": {
      "text/plain": [
       "Province/State\n",
       "Unknown                  0.544275\n",
       "Santa Rosa County, FL    0.400000\n",
       "Lee County, FL           0.333333\n",
       "King County, WA          0.220874\n",
       "Placer County, CA        0.214286\n",
       "                           ...   \n",
       "American Samoa                NaN\n",
       "External territories          NaN\n",
       "Jervis Bay Territory          NaN\n",
       "Montgomery County, TX         NaN\n",
       "Recovered                     NaN\n",
       "Length: 736, dtype: float64"
      ]
     },
     "execution_count": 54,
     "metadata": {},
     "output_type": "execute_result"
    }
   ],
   "source": [
    "fatality_rate_by_province"
   ]
  },
  {
   "cell_type": "code",
   "execution_count": null,
   "id": "6bf06c3d",
   "metadata": {},
   "outputs": [],
   "source": [
    "# Interpretation : The fatality rate varies across different provinces/states, highlighting regional disparities in healthcare quality, population demographics, and the severity of local outbreaks."
   ]
  },
  {
   "cell_type": "code",
   "execution_count": null,
   "id": "0cbd28c0",
   "metadata": {},
   "outputs": [],
   "source": [
    "# How does the recovery rate vary across different provinces/states?"
   ]
  },
  {
   "cell_type": "code",
   "execution_count": 55,
   "id": "eca1958c",
   "metadata": {},
   "outputs": [],
   "source": [
    "recovery_rate_by_province = (df.groupby('Province/State')['Recovered'].sum() / df.groupby('Province/State')['Confirmed'].sum()).sort_values(ascending=False)"
   ]
  },
  {
   "cell_type": "code",
   "execution_count": 56,
   "id": "64522216",
   "metadata": {},
   "outputs": [
    {
     "data": {
      "text/plain": [
       "Province/State\n",
       "Recovered                                              inf\n",
       "US                                              133.000000\n",
       "Unknown                                          79.377353\n",
       "Repatriated Travellers                            1.000000\n",
       "Saint Helena, Ascension and Tristan da Cunha      0.978458\n",
       "                                                   ...    \n",
       "Zuid-Holland                                      0.000000\n",
       "American Samoa                                         NaN\n",
       "External territories                                   NaN\n",
       "Jervis Bay Territory                                   NaN\n",
       "Montgomery County, TX                                  NaN\n",
       "Length: 736, dtype: float64"
      ]
     },
     "execution_count": 56,
     "metadata": {},
     "output_type": "execute_result"
    }
   ],
   "source": [
    "recovery_rate_by_province"
   ]
  },
  {
   "cell_type": "code",
   "execution_count": null,
   "id": "80897067",
   "metadata": {},
   "outputs": [],
   "source": [
    "# Interpretation: The recovery rate varies across different provinces/states, reflecting differences in healthcare capabilities, the effectiveness of local medical interventions, and the severity of COVID-19 outbreaks in each area."
   ]
  },
  {
   "cell_type": "code",
   "execution_count": null,
   "id": "77ec839a",
   "metadata": {},
   "outputs": [],
   "source": [
    "# What is the trend of active cases over time globally?"
   ]
  },
  {
   "cell_type": "code",
   "execution_count": 57,
   "id": "1a02a8f3",
   "metadata": {},
   "outputs": [],
   "source": [
    "df['Active Cases'] = df['Confirmed'] - df['Deaths'] - df['Recovered']"
   ]
  },
  {
   "cell_type": "code",
   "execution_count": 58,
   "id": "90aeacc4",
   "metadata": {},
   "outputs": [],
   "source": [
    "trend_active_cases = df.groupby('ObservationDate')['Active Cases'].sum().reset_index()"
   ]
  },
  {
   "cell_type": "code",
   "execution_count": 59,
   "id": "ef09ee6f",
   "metadata": {},
   "outputs": [
    {
     "data": {
      "text/html": [
       "<div>\n",
       "<style scoped>\n",
       "    .dataframe tbody tr th:only-of-type {\n",
       "        vertical-align: middle;\n",
       "    }\n",
       "\n",
       "    .dataframe tbody tr th {\n",
       "        vertical-align: top;\n",
       "    }\n",
       "\n",
       "    .dataframe thead th {\n",
       "        text-align: right;\n",
       "    }\n",
       "</style>\n",
       "<table border=\"1\" class=\"dataframe\">\n",
       "  <thead>\n",
       "    <tr style=\"text-align: right;\">\n",
       "      <th></th>\n",
       "      <th>ObservationDate</th>\n",
       "      <th>Active Cases</th>\n",
       "    </tr>\n",
       "  </thead>\n",
       "  <tbody>\n",
       "    <tr>\n",
       "      <th>0</th>\n",
       "      <td>01/01/2021</td>\n",
       "      <td>34944939.0</td>\n",
       "    </tr>\n",
       "    <tr>\n",
       "      <th>1</th>\n",
       "      <td>01/02/2021</td>\n",
       "      <td>35261573.0</td>\n",
       "    </tr>\n",
       "    <tr>\n",
       "      <th>2</th>\n",
       "      <td>01/03/2021</td>\n",
       "      <td>35518546.0</td>\n",
       "    </tr>\n",
       "    <tr>\n",
       "      <th>3</th>\n",
       "      <td>01/04/2021</td>\n",
       "      <td>35772107.0</td>\n",
       "    </tr>\n",
       "    <tr>\n",
       "      <th>4</th>\n",
       "      <td>01/05/2021</td>\n",
       "      <td>36181513.0</td>\n",
       "    </tr>\n",
       "    <tr>\n",
       "      <th>...</th>\n",
       "      <td>...</td>\n",
       "      <td>...</td>\n",
       "    </tr>\n",
       "    <tr>\n",
       "      <th>489</th>\n",
       "      <td>12/27/2020</td>\n",
       "      <td>33423242.0</td>\n",
       "    </tr>\n",
       "    <tr>\n",
       "      <th>490</th>\n",
       "      <td>12/28/2020</td>\n",
       "      <td>33611383.0</td>\n",
       "    </tr>\n",
       "    <tr>\n",
       "      <th>491</th>\n",
       "      <td>12/29/2020</td>\n",
       "      <td>33907345.0</td>\n",
       "    </tr>\n",
       "    <tr>\n",
       "      <th>492</th>\n",
       "      <td>12/30/2020</td>\n",
       "      <td>34265273.0</td>\n",
       "    </tr>\n",
       "    <tr>\n",
       "      <th>493</th>\n",
       "      <td>12/31/2020</td>\n",
       "      <td>34701962.0</td>\n",
       "    </tr>\n",
       "  </tbody>\n",
       "</table>\n",
       "<p>494 rows × 2 columns</p>\n",
       "</div>"
      ],
      "text/plain": [
       "    ObservationDate  Active Cases\n",
       "0        01/01/2021    34944939.0\n",
       "1        01/02/2021    35261573.0\n",
       "2        01/03/2021    35518546.0\n",
       "3        01/04/2021    35772107.0\n",
       "4        01/05/2021    36181513.0\n",
       "..              ...           ...\n",
       "489      12/27/2020    33423242.0\n",
       "490      12/28/2020    33611383.0\n",
       "491      12/29/2020    33907345.0\n",
       "492      12/30/2020    34265273.0\n",
       "493      12/31/2020    34701962.0\n",
       "\n",
       "[494 rows x 2 columns]"
      ]
     },
     "execution_count": 59,
     "metadata": {},
     "output_type": "execute_result"
    }
   ],
   "source": [
    "trend_active_cases"
   ]
  },
  {
   "cell_type": "code",
   "execution_count": null,
   "id": "eb6e914c",
   "metadata": {},
   "outputs": [],
   "source": [
    "# Interpretation: The trend of active cases over time globally shows periods of increase and decrease, reflecting ongoing changes in infection rates, recoveries, and deaths as the pandemic progresses and public health measures are implemented."
   ]
  }
 ],
 "metadata": {
  "kernelspec": {
   "display_name": "Python 3 (ipykernel)",
   "language": "python",
   "name": "python3"
  },
  "language_info": {
   "codemirror_mode": {
    "name": "ipython",
    "version": 3
   },
   "file_extension": ".py",
   "mimetype": "text/x-python",
   "name": "python",
   "nbconvert_exporter": "python",
   "pygments_lexer": "ipython3",
   "version": "3.11.5"
  }
 },
 "nbformat": 4,
 "nbformat_minor": 5
}
