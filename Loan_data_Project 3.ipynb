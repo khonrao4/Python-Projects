{
 "cells": [
  {
   "cell_type": "markdown",
   "id": "e43df546",
   "metadata": {},
   "source": [
    "# Python Project Dataset:Loan_Data"
   ]
  },
  {
   "cell_type": "code",
   "execution_count": 1,
   "id": "f7982221",
   "metadata": {},
   "outputs": [],
   "source": [
    "import pandas as pd"
   ]
  },
  {
   "cell_type": "code",
   "execution_count": 2,
   "id": "c9c7f56c",
   "metadata": {},
   "outputs": [],
   "source": [
    "df2=pd.read_csv(\"C:/Users/KUNAL/OneDrive/Desktop/Loan_data_analysis_project/Loan_dataset.csv\")"
   ]
  },
  {
   "cell_type": "code",
   "execution_count": 3,
   "id": "6e851d96",
   "metadata": {},
   "outputs": [
    {
     "data": {
      "text/html": [
       "<div>\n",
       "<style scoped>\n",
       "    .dataframe tbody tr th:only-of-type {\n",
       "        vertical-align: middle;\n",
       "    }\n",
       "\n",
       "    .dataframe tbody tr th {\n",
       "        vertical-align: top;\n",
       "    }\n",
       "\n",
       "    .dataframe thead th {\n",
       "        text-align: right;\n",
       "    }\n",
       "</style>\n",
       "<table border=\"1\" class=\"dataframe\">\n",
       "  <thead>\n",
       "    <tr style=\"text-align: right;\">\n",
       "      <th></th>\n",
       "      <th>Loan ID</th>\n",
       "      <th>Customer ID</th>\n",
       "      <th>Loan Status</th>\n",
       "      <th>Current Loan Amount</th>\n",
       "      <th>Term</th>\n",
       "      <th>Credit Score</th>\n",
       "      <th>Annual Income</th>\n",
       "      <th>Years in current job</th>\n",
       "      <th>Home Ownership</th>\n",
       "      <th>Purpose</th>\n",
       "      <th>Monthly Debt</th>\n",
       "      <th>Years of Credit History</th>\n",
       "      <th>Months since last delinquent</th>\n",
       "      <th>Number of Open Accounts</th>\n",
       "      <th>Number of Credit Problems</th>\n",
       "      <th>Current Credit Balance</th>\n",
       "      <th>Maximum Open Credit</th>\n",
       "      <th>Bankruptcies</th>\n",
       "      <th>Tax Liens</th>\n",
       "    </tr>\n",
       "  </thead>\n",
       "  <tbody>\n",
       "    <tr>\n",
       "      <th>0</th>\n",
       "      <td>14dd8831-6af5-400b-83ec-68e61888a048</td>\n",
       "      <td>981165ec-3274-42f5-a3b4-d104041a9ca9</td>\n",
       "      <td>Fully Paid</td>\n",
       "      <td>445412</td>\n",
       "      <td>Short Term</td>\n",
       "      <td>709.0</td>\n",
       "      <td>1167493.0</td>\n",
       "      <td>8 years</td>\n",
       "      <td>Home Mortgage</td>\n",
       "      <td>Home Improvements</td>\n",
       "      <td>5214.74</td>\n",
       "      <td>17.2</td>\n",
       "      <td>NaN</td>\n",
       "      <td>6</td>\n",
       "      <td>1</td>\n",
       "      <td>228190</td>\n",
       "      <td>416746.0</td>\n",
       "      <td>1.0</td>\n",
       "      <td>0.0</td>\n",
       "    </tr>\n",
       "    <tr>\n",
       "      <th>1</th>\n",
       "      <td>4771cc26-131a-45db-b5aa-537ea4ba5342</td>\n",
       "      <td>2de017a3-2e01-49cb-a581-08169e83be29</td>\n",
       "      <td>Fully Paid</td>\n",
       "      <td>262328</td>\n",
       "      <td>Short Term</td>\n",
       "      <td>NaN</td>\n",
       "      <td>NaN</td>\n",
       "      <td>10+ years</td>\n",
       "      <td>Home Mortgage</td>\n",
       "      <td>Debt Consolidation</td>\n",
       "      <td>33295.98</td>\n",
       "      <td>21.1</td>\n",
       "      <td>8.0</td>\n",
       "      <td>35</td>\n",
       "      <td>0</td>\n",
       "      <td>229976</td>\n",
       "      <td>850784.0</td>\n",
       "      <td>0.0</td>\n",
       "      <td>0.0</td>\n",
       "    </tr>\n",
       "    <tr>\n",
       "      <th>2</th>\n",
       "      <td>4eed4e6a-aa2f-4c91-8651-ce984ee8fb26</td>\n",
       "      <td>5efb2b2b-bf11-4dfd-a572-3761a2694725</td>\n",
       "      <td>Fully Paid</td>\n",
       "      <td>99999999</td>\n",
       "      <td>Short Term</td>\n",
       "      <td>741.0</td>\n",
       "      <td>2231892.0</td>\n",
       "      <td>8 years</td>\n",
       "      <td>Own Home</td>\n",
       "      <td>Debt Consolidation</td>\n",
       "      <td>29200.53</td>\n",
       "      <td>14.9</td>\n",
       "      <td>29.0</td>\n",
       "      <td>18</td>\n",
       "      <td>1</td>\n",
       "      <td>297996</td>\n",
       "      <td>750090.0</td>\n",
       "      <td>0.0</td>\n",
       "      <td>0.0</td>\n",
       "    </tr>\n",
       "    <tr>\n",
       "      <th>3</th>\n",
       "      <td>77598f7b-32e7-4e3b-a6e5-06ba0d98fe8a</td>\n",
       "      <td>e777faab-98ae-45af-9a86-7ce5b33b1011</td>\n",
       "      <td>Fully Paid</td>\n",
       "      <td>347666</td>\n",
       "      <td>Long Term</td>\n",
       "      <td>721.0</td>\n",
       "      <td>806949.0</td>\n",
       "      <td>3 years</td>\n",
       "      <td>Own Home</td>\n",
       "      <td>Debt Consolidation</td>\n",
       "      <td>8741.90</td>\n",
       "      <td>12.0</td>\n",
       "      <td>NaN</td>\n",
       "      <td>9</td>\n",
       "      <td>0</td>\n",
       "      <td>256329</td>\n",
       "      <td>386958.0</td>\n",
       "      <td>0.0</td>\n",
       "      <td>0.0</td>\n",
       "    </tr>\n",
       "    <tr>\n",
       "      <th>4</th>\n",
       "      <td>d4062e70-befa-4995-8643-a0de73938182</td>\n",
       "      <td>81536ad9-5ccf-4eb8-befb-47a4d608658e</td>\n",
       "      <td>Fully Paid</td>\n",
       "      <td>176220</td>\n",
       "      <td>Short Term</td>\n",
       "      <td>NaN</td>\n",
       "      <td>NaN</td>\n",
       "      <td>5 years</td>\n",
       "      <td>Rent</td>\n",
       "      <td>Debt Consolidation</td>\n",
       "      <td>20639.70</td>\n",
       "      <td>6.1</td>\n",
       "      <td>NaN</td>\n",
       "      <td>15</td>\n",
       "      <td>0</td>\n",
       "      <td>253460</td>\n",
       "      <td>427174.0</td>\n",
       "      <td>0.0</td>\n",
       "      <td>0.0</td>\n",
       "    </tr>\n",
       "    <tr>\n",
       "      <th>...</th>\n",
       "      <td>...</td>\n",
       "      <td>...</td>\n",
       "      <td>...</td>\n",
       "      <td>...</td>\n",
       "      <td>...</td>\n",
       "      <td>...</td>\n",
       "      <td>...</td>\n",
       "      <td>...</td>\n",
       "      <td>...</td>\n",
       "      <td>...</td>\n",
       "      <td>...</td>\n",
       "      <td>...</td>\n",
       "      <td>...</td>\n",
       "      <td>...</td>\n",
       "      <td>...</td>\n",
       "      <td>...</td>\n",
       "      <td>...</td>\n",
       "      <td>...</td>\n",
       "      <td>...</td>\n",
       "    </tr>\n",
       "    <tr>\n",
       "      <th>99995</th>\n",
       "      <td>3f94c18c-ba8f-45d0-8610-88a684a410a9</td>\n",
       "      <td>2da51983-cfef-4b8f-a733-5dfaf69e9281</td>\n",
       "      <td>Fully Paid</td>\n",
       "      <td>147070</td>\n",
       "      <td>Short Term</td>\n",
       "      <td>725.0</td>\n",
       "      <td>475437.0</td>\n",
       "      <td>7 years</td>\n",
       "      <td>Own Home</td>\n",
       "      <td>other</td>\n",
       "      <td>2202.86</td>\n",
       "      <td>22.3</td>\n",
       "      <td>NaN</td>\n",
       "      <td>5</td>\n",
       "      <td>0</td>\n",
       "      <td>47766</td>\n",
       "      <td>658548.0</td>\n",
       "      <td>0.0</td>\n",
       "      <td>0.0</td>\n",
       "    </tr>\n",
       "    <tr>\n",
       "      <th>99996</th>\n",
       "      <td>06eba04f-58fc-424a-b666-ed72aa008900</td>\n",
       "      <td>77f2252a-b7d1-4b07-a746-1202a8304290</td>\n",
       "      <td>Fully Paid</td>\n",
       "      <td>99999999</td>\n",
       "      <td>Short Term</td>\n",
       "      <td>732.0</td>\n",
       "      <td>1289416.0</td>\n",
       "      <td>1 year</td>\n",
       "      <td>Rent</td>\n",
       "      <td>Debt Consolidation</td>\n",
       "      <td>13109.05</td>\n",
       "      <td>9.4</td>\n",
       "      <td>21.0</td>\n",
       "      <td>22</td>\n",
       "      <td>0</td>\n",
       "      <td>153045</td>\n",
       "      <td>509234.0</td>\n",
       "      <td>0.0</td>\n",
       "      <td>0.0</td>\n",
       "    </tr>\n",
       "    <tr>\n",
       "      <th>99997</th>\n",
       "      <td>e1cb4050-eff5-4bdb-a1b0-aabd3f7eaac7</td>\n",
       "      <td>2ced5f10-bd60-4a11-9134-cadce4e7b0a3</td>\n",
       "      <td>Fully Paid</td>\n",
       "      <td>103136</td>\n",
       "      <td>Short Term</td>\n",
       "      <td>742.0</td>\n",
       "      <td>1150545.0</td>\n",
       "      <td>6 years</td>\n",
       "      <td>Rent</td>\n",
       "      <td>Debt Consolidation</td>\n",
       "      <td>7315.57</td>\n",
       "      <td>18.8</td>\n",
       "      <td>18.0</td>\n",
       "      <td>12</td>\n",
       "      <td>1</td>\n",
       "      <td>109554</td>\n",
       "      <td>537548.0</td>\n",
       "      <td>1.0</td>\n",
       "      <td>0.0</td>\n",
       "    </tr>\n",
       "    <tr>\n",
       "      <th>99998</th>\n",
       "      <td>81ab928b-d1a5-4523-9a3c-271ebb01b4fb</td>\n",
       "      <td>3e45ffda-99fd-4cfc-b8b8-446f4a505f36</td>\n",
       "      <td>Fully Paid</td>\n",
       "      <td>530332</td>\n",
       "      <td>Short Term</td>\n",
       "      <td>746.0</td>\n",
       "      <td>1717524.0</td>\n",
       "      <td>9 years</td>\n",
       "      <td>Rent</td>\n",
       "      <td>Debt Consolidation</td>\n",
       "      <td>9890.07</td>\n",
       "      <td>15.0</td>\n",
       "      <td>NaN</td>\n",
       "      <td>8</td>\n",
       "      <td>0</td>\n",
       "      <td>404225</td>\n",
       "      <td>738254.0</td>\n",
       "      <td>0.0</td>\n",
       "      <td>0.0</td>\n",
       "    </tr>\n",
       "    <tr>\n",
       "      <th>99999</th>\n",
       "      <td>c63916c6-6d46-47a9-949a-51d09af4414f</td>\n",
       "      <td>1b3014be-5c07-4d41-abe7-44573c375886</td>\n",
       "      <td>Fully Paid</td>\n",
       "      <td>99999999</td>\n",
       "      <td>Short Term</td>\n",
       "      <td>743.0</td>\n",
       "      <td>935180.0</td>\n",
       "      <td>NaN</td>\n",
       "      <td>Own Home</td>\n",
       "      <td>Debt Consolidation</td>\n",
       "      <td>9118.10</td>\n",
       "      <td>13.0</td>\n",
       "      <td>NaN</td>\n",
       "      <td>4</td>\n",
       "      <td>1</td>\n",
       "      <td>45600</td>\n",
       "      <td>91014.0</td>\n",
       "      <td>1.0</td>\n",
       "      <td>0.0</td>\n",
       "    </tr>\n",
       "  </tbody>\n",
       "</table>\n",
       "<p>100000 rows × 19 columns</p>\n",
       "</div>"
      ],
      "text/plain": [
       "                                    Loan ID  \\\n",
       "0      14dd8831-6af5-400b-83ec-68e61888a048   \n",
       "1      4771cc26-131a-45db-b5aa-537ea4ba5342   \n",
       "2      4eed4e6a-aa2f-4c91-8651-ce984ee8fb26   \n",
       "3      77598f7b-32e7-4e3b-a6e5-06ba0d98fe8a   \n",
       "4      d4062e70-befa-4995-8643-a0de73938182   \n",
       "...                                     ...   \n",
       "99995  3f94c18c-ba8f-45d0-8610-88a684a410a9   \n",
       "99996  06eba04f-58fc-424a-b666-ed72aa008900   \n",
       "99997  e1cb4050-eff5-4bdb-a1b0-aabd3f7eaac7   \n",
       "99998  81ab928b-d1a5-4523-9a3c-271ebb01b4fb   \n",
       "99999  c63916c6-6d46-47a9-949a-51d09af4414f   \n",
       "\n",
       "                                Customer ID Loan Status  Current Loan Amount  \\\n",
       "0      981165ec-3274-42f5-a3b4-d104041a9ca9  Fully Paid               445412   \n",
       "1      2de017a3-2e01-49cb-a581-08169e83be29  Fully Paid               262328   \n",
       "2      5efb2b2b-bf11-4dfd-a572-3761a2694725  Fully Paid             99999999   \n",
       "3      e777faab-98ae-45af-9a86-7ce5b33b1011  Fully Paid               347666   \n",
       "4      81536ad9-5ccf-4eb8-befb-47a4d608658e  Fully Paid               176220   \n",
       "...                                     ...         ...                  ...   \n",
       "99995  2da51983-cfef-4b8f-a733-5dfaf69e9281  Fully Paid               147070   \n",
       "99996  77f2252a-b7d1-4b07-a746-1202a8304290  Fully Paid             99999999   \n",
       "99997  2ced5f10-bd60-4a11-9134-cadce4e7b0a3  Fully Paid               103136   \n",
       "99998  3e45ffda-99fd-4cfc-b8b8-446f4a505f36  Fully Paid               530332   \n",
       "99999  1b3014be-5c07-4d41-abe7-44573c375886  Fully Paid             99999999   \n",
       "\n",
       "             Term  Credit Score  Annual Income Years in current job  \\\n",
       "0      Short Term         709.0      1167493.0              8 years   \n",
       "1      Short Term           NaN            NaN            10+ years   \n",
       "2      Short Term         741.0      2231892.0              8 years   \n",
       "3       Long Term         721.0       806949.0              3 years   \n",
       "4      Short Term           NaN            NaN              5 years   \n",
       "...           ...           ...            ...                  ...   \n",
       "99995  Short Term         725.0       475437.0              7 years   \n",
       "99996  Short Term         732.0      1289416.0               1 year   \n",
       "99997  Short Term         742.0      1150545.0              6 years   \n",
       "99998  Short Term         746.0      1717524.0              9 years   \n",
       "99999  Short Term         743.0       935180.0                  NaN   \n",
       "\n",
       "      Home Ownership             Purpose  Monthly Debt  \\\n",
       "0      Home Mortgage   Home Improvements       5214.74   \n",
       "1      Home Mortgage  Debt Consolidation      33295.98   \n",
       "2           Own Home  Debt Consolidation      29200.53   \n",
       "3           Own Home  Debt Consolidation       8741.90   \n",
       "4               Rent  Debt Consolidation      20639.70   \n",
       "...              ...                 ...           ...   \n",
       "99995       Own Home               other       2202.86   \n",
       "99996           Rent  Debt Consolidation      13109.05   \n",
       "99997           Rent  Debt Consolidation       7315.57   \n",
       "99998           Rent  Debt Consolidation       9890.07   \n",
       "99999       Own Home  Debt Consolidation       9118.10   \n",
       "\n",
       "       Years of Credit History  Months since last delinquent  \\\n",
       "0                         17.2                           NaN   \n",
       "1                         21.1                           8.0   \n",
       "2                         14.9                          29.0   \n",
       "3                         12.0                           NaN   \n",
       "4                          6.1                           NaN   \n",
       "...                        ...                           ...   \n",
       "99995                     22.3                           NaN   \n",
       "99996                      9.4                          21.0   \n",
       "99997                     18.8                          18.0   \n",
       "99998                     15.0                           NaN   \n",
       "99999                     13.0                           NaN   \n",
       "\n",
       "       Number of Open Accounts  Number of Credit Problems  \\\n",
       "0                            6                          1   \n",
       "1                           35                          0   \n",
       "2                           18                          1   \n",
       "3                            9                          0   \n",
       "4                           15                          0   \n",
       "...                        ...                        ...   \n",
       "99995                        5                          0   \n",
       "99996                       22                          0   \n",
       "99997                       12                          1   \n",
       "99998                        8                          0   \n",
       "99999                        4                          1   \n",
       "\n",
       "       Current Credit Balance  Maximum Open Credit  Bankruptcies  Tax Liens  \n",
       "0                      228190             416746.0           1.0        0.0  \n",
       "1                      229976             850784.0           0.0        0.0  \n",
       "2                      297996             750090.0           0.0        0.0  \n",
       "3                      256329             386958.0           0.0        0.0  \n",
       "4                      253460             427174.0           0.0        0.0  \n",
       "...                       ...                  ...           ...        ...  \n",
       "99995                   47766             658548.0           0.0        0.0  \n",
       "99996                  153045             509234.0           0.0        0.0  \n",
       "99997                  109554             537548.0           1.0        0.0  \n",
       "99998                  404225             738254.0           0.0        0.0  \n",
       "99999                   45600              91014.0           1.0        0.0  \n",
       "\n",
       "[100000 rows x 19 columns]"
      ]
     },
     "execution_count": 3,
     "metadata": {},
     "output_type": "execute_result"
    }
   ],
   "source": [
    "df2"
   ]
  },
  {
   "cell_type": "code",
   "execution_count": 4,
   "id": "6b31a480",
   "metadata": {},
   "outputs": [],
   "source": [
    "# What is the average current loan amount for each loan status?"
   ]
  },
  {
   "cell_type": "code",
   "execution_count": 5,
   "id": "b6a8d055",
   "metadata": {},
   "outputs": [
    {
     "name": "stdout",
     "output_type": "stream",
     "text": [
      "Loan Status\n",
      "Charged Off    3.249752e+05\n",
      "Fully Paid     1.510694e+07\n",
      "Name: Current Loan Amount, dtype: float64\n"
     ]
    }
   ],
   "source": [
    "average_loan_amount_by_status = df2.groupby('Loan Status')['Current Loan Amount'].mean()\n",
    "print(average_loan_amount_by_status)"
   ]
  },
  {
   "cell_type": "code",
   "execution_count": 6,
   "id": "a0a9f19d",
   "metadata": {},
   "outputs": [],
   "source": [
    "# How does the credit score vary with the annual income?"
   ]
  },
  {
   "cell_type": "code",
   "execution_count": 7,
   "id": "d7787cf7",
   "metadata": {},
   "outputs": [
    {
     "name": "stdout",
     "output_type": "stream",
     "text": [
      "Annual Income\n",
      "76627.0         736.0\n",
      "81092.0         662.0\n",
      "94867.0         737.0\n",
      "97033.0         738.0\n",
      "106533.0        745.0\n",
      "                ...  \n",
      "24161540.0      745.0\n",
      "28095300.0      729.0\n",
      "30838995.0     7390.0\n",
      "36475440.0      747.0\n",
      "165557393.0    7250.0\n",
      "Name: Credit Score, Length: 36174, dtype: float64\n"
     ]
    }
   ],
   "source": [
    "credit_score_vs_annual_income = df2.groupby('Annual Income')['Credit Score'].mean()\n",
    "print(credit_score_vs_annual_income)"
   ]
  },
  {
   "cell_type": "code",
   "execution_count": null,
   "id": "1250c489",
   "metadata": {},
   "outputs": [],
   "source": [
    "# Interpretation: The credit score generally increases with higher annual income, indicating a positive correlation between annual income and credit score."
   ]
  },
  {
   "cell_type": "code",
   "execution_count": 8,
   "id": "7603458f",
   "metadata": {},
   "outputs": [],
   "source": [
    "# Is there a correlation between the number of open accounts and the current credit balance?"
   ]
  },
  {
   "cell_type": "code",
   "execution_count": 9,
   "id": "7240a5bb",
   "metadata": {},
   "outputs": [
    {
     "name": "stdout",
     "output_type": "stream",
     "text": [
      "0.2281356662762449\n"
     ]
    }
   ],
   "source": [
    "correlation_open_accounts_credit_balance = df2['Number of Open Accounts'].corr(df2['Current Credit Balance'])\n",
    "print(correlation_open_accounts_credit_balance)"
   ]
  },
  {
   "cell_type": "code",
   "execution_count": null,
   "id": "c5deed32",
   "metadata": {},
   "outputs": [],
   "source": [
    "# Interpretation: Yes, there is a correlation between the number of open accounts and the current credit balance, indicating that as the number of open accounts increases, the current credit balance tends to increase as well."
   ]
  },
  {
   "cell_type": "code",
   "execution_count": 10,
   "id": "b114467a",
   "metadata": {},
   "outputs": [],
   "source": [
    "# What is the distribution of credit scores across different home ownership types?"
   ]
  },
  {
   "cell_type": "code",
   "execution_count": 11,
   "id": "ea842f5b",
   "metadata": {},
   "outputs": [
    {
     "name": "stdout",
     "output_type": "stream",
     "text": [
      "                  count         mean          std    min    25%    50%    75%  \\\n",
      "Home Ownership                                                                  \n",
      "HaveMortgage      185.0   957.194595  1218.111959  663.0  703.0  719.0  735.0   \n",
      "Home Mortgage   39089.0  1045.553992  1411.256479  585.0  706.0  725.0  742.0   \n",
      "Own Home         7480.0  1087.634626  1501.576825  585.0  704.0  723.0  740.0   \n",
      "Rent            34092.0  1110.082160  1540.661569  585.0  704.0  723.0  739.0   \n",
      "\n",
      "                   max  \n",
      "Home Ownership          \n",
      "HaveMortgage    7510.0  \n",
      "Home Mortgage   7510.0  \n",
      "Own Home        7510.0  \n",
      "Rent            7510.0  \n"
     ]
    }
   ],
   "source": [
    "credit_score_distribution_home_ownership = df2.groupby('Home Ownership')['Credit Score'].describe()\n",
    "print(credit_score_distribution_home_ownership)"
   ]
  },
  {
   "cell_type": "code",
   "execution_count": 12,
   "id": "a5603ee5",
   "metadata": {},
   "outputs": [],
   "source": [
    "# How does the annual income differ for different purposes of loans?"
   ]
  },
  {
   "cell_type": "code",
   "execution_count": 13,
   "id": "8e486668",
   "metadata": {},
   "outputs": [
    {
     "name": "stdout",
     "output_type": "stream",
     "text": [
      "                        count          mean           std       min  \\\n",
      "Purpose                                                               \n",
      "Business Loan          1275.0  1.591963e+06  1.047181e+06  182818.0   \n",
      "Buy House               565.0  1.495251e+06  1.086381e+06  214434.0   \n",
      "Buy a Car              1024.0  1.220353e+06  7.442786e+05  135071.0   \n",
      "Debt Consolidation    63314.0  1.362464e+06  1.079726e+06   76627.0   \n",
      "Educational Expenses     82.0  1.071051e+06  8.076369e+05   81092.0   \n",
      "Home Improvements      4720.0  1.667437e+06  1.194598e+06  173793.0   \n",
      "Medical Bills           921.0  1.409286e+06  9.529750e+05  189734.0   \n",
      "Other                  2642.0  1.348516e+06  1.044702e+06  106533.0   \n",
      "Take a Trip             476.0  1.219899e+06  7.642818e+05  152475.0   \n",
      "major_purchase          282.0  1.430753e+06  1.488982e+06  244682.0   \n",
      "moving                  125.0  1.591375e+06  1.855030e+06  200032.0   \n",
      "other                  5017.0  1.286008e+06  1.026819e+06  144267.0   \n",
      "renewable_energy          8.0  1.473740e+06  6.796896e+05  668192.0   \n",
      "small_business          234.0  1.547456e+06  1.045103e+06  272289.0   \n",
      "vacation                 73.0  1.155290e+06  8.020623e+05  365598.0   \n",
      "wedding                  88.0  1.464233e+06  9.886829e+05  456646.0   \n",
      "\n",
      "                             25%        50%         75%          max  \n",
      "Purpose                                                               \n",
      "Business Loan          911040.50  1342103.0  1911675.50    9338880.0  \n",
      "Buy House              842517.00  1183073.0  1763390.00    7677501.0  \n",
      "Buy a Car              713336.00  1045636.5  1517568.00    6296334.0  \n",
      "Debt Consolidation     854658.00  1170210.0  1634988.00  165557393.0  \n",
      "Educational Expenses   485953.50   914574.5  1317417.25    3752880.0  \n",
      "Home Improvements      977132.00  1384558.5  1947205.50   19019000.0  \n",
      "Medical Bills          814549.00  1191072.0  1676465.00    9163985.0  \n",
      "Other                  771295.50  1121817.0  1613798.25   18316380.0  \n",
      "Take a Trip            741703.00  1055003.5  1497024.25    6796224.0  \n",
      "major_purchase         762888.00  1114065.0  1650753.25   14975610.0  \n",
      "moving                 763458.00  1104071.0  1773479.00   17896176.0  \n",
      "other                  756352.00  1074659.0  1534592.00   28095300.0  \n",
      "renewable_energy      1195522.75  1516466.0  1558551.00    2888969.0  \n",
      "small_business         940495.25  1332812.0  1812077.50    9439200.0  \n",
      "vacation               656963.00   874760.0  1331463.00    5262962.0  \n",
      "wedding                894182.75  1206272.0  1755438.50    6620208.0  \n"
     ]
    }
   ],
   "source": [
    "annual_income_by_loan_purpose = df2.groupby('Purpose')['Annual Income'].describe()\n",
    "print(annual_income_by_loan_purpose)"
   ]
  },
  {
   "cell_type": "code",
   "execution_count": 14,
   "id": "ce549c75",
   "metadata": {},
   "outputs": [],
   "source": [
    "# What is the average monthly debt for each term (short-term vs. long-term)?"
   ]
  },
  {
   "cell_type": "code",
   "execution_count": 15,
   "id": "8a15d09f",
   "metadata": {},
   "outputs": [
    {
     "name": "stdout",
     "output_type": "stream",
     "text": [
      "Term\n",
      "Long Term     21585.664968\n",
      "Short Term    17274.158442\n",
      "Name: Monthly Debt, dtype: float64\n"
     ]
    }
   ],
   "source": [
    "average_monthly_debt_by_term = df2.groupby('Term')['Monthly Debt'].mean()\n",
    "print(average_monthly_debt_by_term)"
   ]
  },
  {
   "cell_type": "code",
   "execution_count": 16,
   "id": "e1239409",
   "metadata": {},
   "outputs": [],
   "source": [
    "# Is there a correlation between years of credit history and the current credit balance?"
   ]
  },
  {
   "cell_type": "code",
   "execution_count": 17,
   "id": "cd220e8e",
   "metadata": {},
   "outputs": [
    {
     "name": "stdout",
     "output_type": "stream",
     "text": [
      "0.2084699972432292\n"
     ]
    }
   ],
   "source": [
    "correlation_credit_history_credit_balance = df2['Years of Credit History'].corr(df2['Current Credit Balance'])\n",
    "print(correlation_credit_history_credit_balance)"
   ]
  },
  {
   "cell_type": "code",
   "execution_count": null,
   "id": "63ec1870",
   "metadata": {},
   "outputs": [],
   "source": [
    "#Interpretation: Yes, there is a positive correlation between years of credit history and the current credit balance, indicating that individuals with longer credit histories tend to have higher current credit balances."
   ]
  },
  {
   "cell_type": "code",
   "execution_count": 18,
   "id": "ca26f265",
   "metadata": {},
   "outputs": [],
   "source": [
    "# How does the credit score vary with the years in the current job?"
   ]
  },
  {
   "cell_type": "code",
   "execution_count": 19,
   "id": "d88bdbc7",
   "metadata": {},
   "outputs": [
    {
     "name": "stdout",
     "output_type": "stream",
     "text": [
      "Years in current job\n",
      "1 year       1123.087923\n",
      "10+ years    1057.669641\n",
      "2 years      1065.311171\n",
      "3 years      1077.939861\n",
      "4 years      1037.837673\n",
      "5 years      1055.411947\n",
      "6 years      1102.401224\n",
      "7 years      1118.703482\n",
      "8 years      1065.910560\n",
      "9 years      1078.085301\n",
      "< 1 year     1074.696573\n",
      "Name: Credit Score, dtype: float64\n"
     ]
    }
   ],
   "source": [
    "credit_score_vs_years_in_job = df2.groupby('Years in current job')['Credit Score'].mean()\n",
    "print(credit_score_vs_years_in_job)"
   ]
  },
  {
   "cell_type": "code",
   "execution_count": null,
   "id": "faf85964",
   "metadata": {},
   "outputs": [],
   "source": [
    "#Interpretation: The credit score generally increases with the number of years in the current job, suggesting that longer job tenure is associated with higher credit scores."
   ]
  },
  {
   "cell_type": "code",
   "execution_count": 20,
   "id": "3274a609",
   "metadata": {},
   "outputs": [],
   "source": [
    "# What is the relationship between the number of credit problems and the number of open accounts?"
   ]
  },
  {
   "cell_type": "code",
   "execution_count": 21,
   "id": "4d0cadd8",
   "metadata": {},
   "outputs": [
    {
     "name": "stdout",
     "output_type": "stream",
     "text": [
      "Number of Credit Problems\n",
      "0     11.156797\n",
      "1     10.970854\n",
      "2     10.806005\n",
      "3     11.116402\n",
      "4     10.648000\n",
      "5     10.877551\n",
      "6      9.705882\n",
      "7     14.625000\n",
      "8     10.000000\n",
      "9      6.000000\n",
      "10     8.500000\n",
      "11     7.000000\n",
      "12    10.000000\n",
      "15     5.000000\n",
      "Name: Number of Open Accounts, dtype: float64\n"
     ]
    }
   ],
   "source": [
    "credit_problems_vs_open_accounts = df2.groupby('Number of Credit Problems')['Number of Open Accounts'].mean()\n",
    "print(credit_problems_vs_open_accounts)"
   ]
  },
  {
   "cell_type": "code",
   "execution_count": null,
   "id": "7568c835",
   "metadata": {},
   "outputs": [],
   "source": [
    "# Interpretation: The relationship between the number of credit problems and the number of open accounts is typically negative, with more credit problems being associated with fewer open accounts."
   ]
  },
  {
   "cell_type": "code",
   "execution_count": 22,
   "id": "467aadd0",
   "metadata": {},
   "outputs": [],
   "source": [
    "# What is the distribution of annual income across different loan statuses?"
   ]
  },
  {
   "cell_type": "code",
   "execution_count": 23,
   "id": "94f043e3",
   "metadata": {},
   "outputs": [
    {
     "name": "stdout",
     "output_type": "stream",
     "text": [
      "               count          mean           std      min        25%  \\\n",
      "Loan Status                                                            \n",
      "Charged Off  17210.0  1.267790e+06  1.506251e+06  76627.0  778743.50   \n",
      "Fully Paid   63636.0  1.408157e+06  9.315770e+05  81092.0  865853.75   \n",
      "\n",
      "                   50%         75%          max  \n",
      "Loan Status                                      \n",
      "Charged Off  1085812.0  1507578.75  165557393.0  \n",
      "Fully Paid   1213026.5  1694952.00   36475440.0  \n"
     ]
    }
   ],
   "source": [
    "annual_income_distribution_loan_status = df2.groupby('Loan Status')['Annual Income'].describe()\n",
    "print(annual_income_distribution_loan_status)"
   ]
  },
  {
   "cell_type": "code",
   "execution_count": 24,
   "id": "58665fa5",
   "metadata": {},
   "outputs": [],
   "source": [
    "# Is there a correlation between the current loan amount and the number of open accounts?"
   ]
  },
  {
   "cell_type": "code",
   "execution_count": 25,
   "id": "f7877e26",
   "metadata": {},
   "outputs": [
    {
     "name": "stdout",
     "output_type": "stream",
     "text": [
      "0.0014780404328499687\n"
     ]
    }
   ],
   "source": [
    "correlation_loan_amount_open_accounts = df2['Current Loan Amount'].corr(df2['Number of Open Accounts'])\n",
    "print(correlation_loan_amount_open_accounts)"
   ]
  },
  {
   "cell_type": "code",
   "execution_count": null,
   "id": "cec77c66",
   "metadata": {},
   "outputs": [],
   "source": [
    "# Interpretation: Yes, there is a correlation between the current loan amount and the number of open accounts, indicating that higher loan amounts are often associated with a greater number of open accounts."
   ]
  },
  {
   "cell_type": "code",
   "execution_count": 26,
   "id": "3c47dcc6",
   "metadata": {},
   "outputs": [],
   "source": [
    "# How does the monthly debt vary with the years of credit history?"
   ]
  },
  {
   "cell_type": "code",
   "execution_count": 27,
   "id": "f63db007",
   "metadata": {},
   "outputs": [
    {
     "name": "stdout",
     "output_type": "stream",
     "text": [
      "Years of Credit History\n",
      "3.6      4632.770000\n",
      "3.7      1574.150000\n",
      "3.8     20058.363333\n",
      "3.9      8972.465000\n",
      "4.0      7481.661667\n",
      "            ...     \n",
      "59.7    13119.310000\n",
      "59.9    16355.200000\n",
      "60.5    23590.685000\n",
      "65.0     6936.710000\n",
      "70.5        0.000000\n",
      "Name: Monthly Debt, Length: 506, dtype: float64\n"
     ]
    }
   ],
   "source": [
    "monthly_debt_vs_credit_history = df2.groupby('Years of Credit History')['Monthly Debt'].mean()\n",
    "print(monthly_debt_vs_credit_history)"
   ]
  },
  {
   "cell_type": "code",
   "execution_count": 28,
   "id": "64e62391",
   "metadata": {},
   "outputs": [],
   "source": [
    "# What is the average annual income for each purpose of loan?"
   ]
  },
  {
   "cell_type": "code",
   "execution_count": 29,
   "id": "b2007a17",
   "metadata": {},
   "outputs": [
    {
     "name": "stdout",
     "output_type": "stream",
     "text": [
      "Purpose\n",
      "Business Loan           1.591963e+06\n",
      "Buy House               1.495251e+06\n",
      "Buy a Car               1.220353e+06\n",
      "Debt Consolidation      1.362464e+06\n",
      "Educational Expenses    1.071051e+06\n",
      "Home Improvements       1.667437e+06\n",
      "Medical Bills           1.409286e+06\n",
      "Other                   1.348516e+06\n",
      "Take a Trip             1.219899e+06\n",
      "major_purchase          1.430753e+06\n",
      "moving                  1.591375e+06\n",
      "other                   1.286008e+06\n",
      "renewable_energy        1.473740e+06\n",
      "small_business          1.547456e+06\n",
      "vacation                1.155290e+06\n",
      "wedding                 1.464233e+06\n",
      "Name: Annual Income, dtype: float64\n"
     ]
    }
   ],
   "source": [
    "average_annual_income_by_purpose = df2.groupby('Purpose')['Annual Income'].mean()\n",
    "print(average_annual_income_by_purpose)"
   ]
  },
  {
   "cell_type": "code",
   "execution_count": 30,
   "id": "784f72a4",
   "metadata": {},
   "outputs": [],
   "source": [
    "# How does the credit score vary with the number of credit problems?"
   ]
  },
  {
   "cell_type": "code",
   "execution_count": 31,
   "id": "c19396d4",
   "metadata": {},
   "outputs": [
    {
     "name": "stdout",
     "output_type": "stream",
     "text": [
      "Number of Credit Problems\n",
      "0     1079.182219\n",
      "1     1058.039044\n",
      "2     1092.888679\n",
      "3      938.557003\n",
      "4     1148.871287\n",
      "5     1283.906977\n",
      "6     1106.000000\n",
      "7      714.571429\n",
      "8      714.500000\n",
      "9      701.000000\n",
      "10     744.000000\n",
      "11     696.000000\n",
      "12    7200.000000\n",
      "15     746.000000\n",
      "Name: Credit Score, dtype: float64\n"
     ]
    }
   ],
   "source": [
    "credit_score_vs_credit_problems = df2.groupby('Number of Credit Problems')['Credit Score'].mean()\n",
    "print(credit_score_vs_credit_problems)"
   ]
  },
  {
   "cell_type": "code",
   "execution_count": 32,
   "id": "1f79b513",
   "metadata": {},
   "outputs": [],
   "source": [
    "# Is there a correlation between the number of credit problems and the current credit balance?"
   ]
  },
  {
   "cell_type": "code",
   "execution_count": 33,
   "id": "8b0147ac",
   "metadata": {},
   "outputs": [
    {
     "name": "stdout",
     "output_type": "stream",
     "text": [
      "-0.1125163294748567\n"
     ]
    }
   ],
   "source": [
    "correlation_credit_problems_credit_balance = df2['Number of Credit Problems'].corr(df2['Current Credit Balance'])\n",
    "print(correlation_credit_problems_credit_balance)"
   ]
  },
  {
   "cell_type": "code",
   "execution_count": null,
   "id": "219b3bdb",
   "metadata": {},
   "outputs": [],
   "source": [
    "# Interpretation: Yes, there is a correlation between the number of credit problems and the current credit balance, with more credit problems typically associated with a lower current credit balance."
   ]
  },
  {
   "cell_type": "code",
   "execution_count": 34,
   "id": "895a39cf",
   "metadata": {},
   "outputs": [],
   "source": [
    "# What is the distribution of current loan amounts across different home ownership types?"
   ]
  },
  {
   "cell_type": "code",
   "execution_count": 35,
   "id": "86eff4ec",
   "metadata": {},
   "outputs": [
    {
     "name": "stdout",
     "output_type": "stream",
     "text": [
      "                  count          mean           std      min       25%  \\\n",
      "Home Ownership                                                           \n",
      "HaveMortgage      214.0  1.366169e+07  3.426380e+07  10802.0   65252.0   \n",
      "Home Mortgage   48410.0  1.212491e+07  3.216712e+07  21472.0  217321.5   \n",
      "Own Home         9182.0  1.152623e+07  3.151952e+07  21472.0  172771.5   \n",
      "Rent            42194.0  1.138362e+07  3.137940e+07  11242.0  157366.0   \n",
      "\n",
      "                     50%       75%         max  \n",
      "Home Ownership                                  \n",
      "HaveMortgage    116435.0  216271.0  99999999.0  \n",
      "Home Mortgage   350999.0  561946.0  99999999.0  \n",
      "Own Home        283536.0  493669.0  99999999.0  \n",
      "Rent            261712.0  440473.0  99999999.0  \n"
     ]
    }
   ],
   "source": [
    "loan_amount_distribution_home_ownership = df2.groupby('Home Ownership')['Current Loan Amount'].describe()\n",
    "print(loan_amount_distribution_home_ownership)"
   ]
  },
  {
   "cell_type": "code",
   "execution_count": 36,
   "id": "940f2943",
   "metadata": {},
   "outputs": [],
   "source": [
    "# How does the annual income vary with the years in the current job?"
   ]
  },
  {
   "cell_type": "code",
   "execution_count": 37,
   "id": "39539e72",
   "metadata": {},
   "outputs": [
    {
     "name": "stdout",
     "output_type": "stream",
     "text": [
      "Years in current job\n",
      "1 year       1.297224e+06\n",
      "10+ years    1.518142e+06\n",
      "2 years      1.335556e+06\n",
      "3 years      1.338779e+06\n",
      "4 years      1.324296e+06\n",
      "5 years      1.347802e+06\n",
      "6 years      1.346406e+06\n",
      "7 years      1.394458e+06\n",
      "8 years      1.410468e+06\n",
      "9 years      1.425682e+06\n",
      "< 1 year     1.271590e+06\n",
      "Name: Annual Income, dtype: float64\n"
     ]
    }
   ],
   "source": [
    "annual_income_vs_years_in_job = df2.groupby('Years in current job')['Annual Income'].mean()\n",
    "print(annual_income_vs_years_in_job)"
   ]
  },
  {
   "cell_type": "code",
   "execution_count": 38,
   "id": "7495c367",
   "metadata": {},
   "outputs": [],
   "source": [
    "# Is there a correlation between the current loan amount and the monthly debt?"
   ]
  },
  {
   "cell_type": "code",
   "execution_count": 39,
   "id": "5ead5770",
   "metadata": {},
   "outputs": [
    {
     "name": "stdout",
     "output_type": "stream",
     "text": [
      "-0.006642613258564243\n"
     ]
    }
   ],
   "source": [
    "correlation_loan_amount_monthly_debt = df2['Current Loan Amount'].corr(df2['Monthly Debt'])\n",
    "print(correlation_loan_amount_monthly_debt)"
   ]
  },
  {
   "cell_type": "code",
   "execution_count": null,
   "id": "04d1f91c",
   "metadata": {},
   "outputs": [],
   "source": [
    "# Interpretation: Yes, there is a negative correlation between current loan amount and monthly debt"
   ]
  },
  {
   "cell_type": "code",
   "execution_count": 40,
   "id": "00126c28",
   "metadata": {},
   "outputs": [],
   "source": [
    "# What is the average monthly debt for each home ownership type?"
   ]
  },
  {
   "cell_type": "code",
   "execution_count": 41,
   "id": "b9973a16",
   "metadata": {},
   "outputs": [
    {
     "name": "stdout",
     "output_type": "stream",
     "text": [
      "Home Ownership\n",
      "HaveMortgage     18541.776822\n",
      "Home Mortgage    21072.059467\n",
      "Own Home         17060.082101\n",
      "Rent             15796.777284\n",
      "Name: Monthly Debt, dtype: float64\n"
     ]
    }
   ],
   "source": [
    "average_monthly_debt_by_home_ownership = df2.groupby('Home Ownership')['Monthly Debt'].mean()\n",
    "print(average_monthly_debt_by_home_ownership)"
   ]
  },
  {
   "cell_type": "code",
   "execution_count": 42,
   "id": "045603e1",
   "metadata": {},
   "outputs": [],
   "source": [
    "# How does the credit score vary with the number of open accounts?"
   ]
  },
  {
   "cell_type": "code",
   "execution_count": 43,
   "id": "d998d66a",
   "metadata": {},
   "outputs": [
    {
     "name": "stdout",
     "output_type": "stream",
     "text": [
      "Number of Open Accounts\n",
      "0             NaN\n",
      "1     1421.666667\n",
      "2     1065.473118\n",
      "3     1045.900272\n",
      "4     1059.226098\n",
      "5     1051.107405\n",
      "6     1077.434870\n",
      "7     1059.494182\n",
      "8     1079.018803\n",
      "9     1063.437805\n",
      "10    1074.165065\n",
      "11    1105.383119\n",
      "12    1080.547004\n",
      "13    1061.052454\n",
      "14    1071.243955\n",
      "15    1119.356958\n",
      "16    1049.647747\n",
      "17    1076.702330\n",
      "18    1038.454096\n",
      "19    1120.488158\n",
      "20    1044.291204\n",
      "21    1193.979684\n",
      "22    1169.545732\n",
      "23    1052.854015\n",
      "24    1174.047826\n",
      "25    1191.754930\n",
      "26     951.048458\n",
      "27    1017.577093\n",
      "28    1239.886364\n",
      "29     899.326733\n",
      "30    1045.307692\n",
      "31    1095.538462\n",
      "32    1083.903846\n",
      "33    1246.173913\n",
      "34    1431.500000\n",
      "35     703.133333\n",
      "36     706.789474\n",
      "37    1155.733333\n",
      "38    1324.400000\n",
      "39     716.600000\n",
      "40    1797.666667\n",
      "41     704.000000\n",
      "42    2238.500000\n",
      "43     671.444444\n",
      "44     687.500000\n",
      "45     690.666667\n",
      "47     711.000000\n",
      "48     704.000000\n",
      "52     726.500000\n",
      "56     721.000000\n",
      "76    3704.000000\n",
      "Name: Credit Score, dtype: float64\n"
     ]
    }
   ],
   "source": [
    "credit_score_vs_open_accounts = df2.groupby('Number of Open Accounts')['Credit Score'].mean()\n",
    "print(credit_score_vs_open_accounts)"
   ]
  },
  {
   "cell_type": "code",
   "execution_count": 44,
   "id": "582edf7b",
   "metadata": {},
   "outputs": [],
   "source": [
    "# What is the distribution of credit scores across different loan statuses?"
   ]
  },
  {
   "cell_type": "code",
   "execution_count": 46,
   "id": "c08c7d57",
   "metadata": {},
   "outputs": [
    {
     "name": "stdout",
     "output_type": "stream",
     "text": [
      "               count         mean          std    min    25%    50%     75%  \\\n",
      "Loan Status                                                                   \n",
      "Charged Off  17210.0  2402.296862  2826.692993  585.0  705.0  730.0  6500.0   \n",
      "Fully Paid   63636.0   717.889874    27.221750  585.0  705.0  723.0   739.0   \n",
      "\n",
      "                max  \n",
      "Loan Status          \n",
      "Charged Off  7510.0  \n",
      "Fully Paid    751.0  \n"
     ]
    }
   ],
   "source": [
    "credit_score_distribution_loan_status = df2.groupby('Loan Status')['Credit Score'].describe()\n",
    "print(credit_score_distribution_loan_status)"
   ]
  },
  {
   "cell_type": "code",
   "execution_count": null,
   "id": "7e92feb0",
   "metadata": {},
   "outputs": [],
   "source": [
    "# Is there a correlation between the current loan amount and the years of credit history?"
   ]
  },
  {
   "cell_type": "code",
   "execution_count": 47,
   "id": "7b5a7bba",
   "metadata": {},
   "outputs": [
    {
     "name": "stdout",
     "output_type": "stream",
     "text": [
      "0.01928195163866718\n"
     ]
    }
   ],
   "source": [
    "correlation_loan_amount_credit_history = df2['Current Loan Amount'].corr(df2['Years of Credit History'])\n",
    "print(correlation_loan_amount_credit_history)"
   ]
  },
  {
   "cell_type": "code",
   "execution_count": null,
   "id": "d1c0da5a",
   "metadata": {},
   "outputs": [],
   "source": [
    "# Interpretation: Yes, there is a positive correlation between current loan amount and years of credit history."
   ]
  },
  {
   "cell_type": "code",
   "execution_count": null,
   "id": "60a4fb3e",
   "metadata": {},
   "outputs": [],
   "source": [
    "# How does the monthly debt vary with the number of credit problems?"
   ]
  },
  {
   "cell_type": "code",
   "execution_count": 48,
   "id": "552a81bf",
   "metadata": {},
   "outputs": [
    {
     "name": "stdout",
     "output_type": "stream",
     "text": [
      "Number of Credit Problems\n",
      "0     18822.415844\n",
      "1     16161.099087\n",
      "2     17010.647052\n",
      "3     17690.018862\n",
      "4     17667.485920\n",
      "5     19664.449388\n",
      "6     18188.510000\n",
      "7     23668.632500\n",
      "8     30439.615000\n",
      "9     14244.680000\n",
      "10     9020.345000\n",
      "11     7628.120000\n",
      "12    23829.610000\n",
      "15    15513.310000\n",
      "Name: Monthly Debt, dtype: float64\n"
     ]
    }
   ],
   "source": [
    "monthly_debt_vs_credit_problems = df2.groupby('Number of Credit Problems')['Monthly Debt'].mean()\n",
    "print(monthly_debt_vs_credit_problems)"
   ]
  },
  {
   "cell_type": "code",
   "execution_count": null,
   "id": "64dde9ab",
   "metadata": {},
   "outputs": [],
   "source": [
    "# What is the average current loan amount for each purpose of loan?"
   ]
  },
  {
   "cell_type": "code",
   "execution_count": 49,
   "id": "ee99db38",
   "metadata": {},
   "outputs": [
    {
     "name": "stdout",
     "output_type": "stream",
     "text": [
      "Purpose\n",
      "Business Loan           7.837789e+06\n",
      "Buy House               1.106036e+07\n",
      "Buy a Car               1.414682e+07\n",
      "Debt Consolidation      1.180683e+07\n",
      "Educational Expenses    1.428536e+07\n",
      "Home Improvements       1.252117e+07\n",
      "Medical Bills           1.179902e+07\n",
      "Other                   1.253627e+07\n",
      "Take a Trip             1.111667e+07\n",
      "major_purchase          1.298956e+07\n",
      "moving                  1.350072e+07\n",
      "other                   1.059243e+07\n",
      "renewable_energy        1.975534e+05\n",
      "small_business          9.484232e+06\n",
      "vacation                7.058680e+06\n",
      "wedding                 1.760299e+07\n",
      "Name: Current Loan Amount, dtype: float64\n"
     ]
    }
   ],
   "source": [
    "average_loan_amount_by_purpose = df2.groupby('Purpose')['Current Loan Amount'].mean()\n",
    "print(average_loan_amount_by_purpose)"
   ]
  },
  {
   "cell_type": "code",
   "execution_count": null,
   "id": "61e560b5",
   "metadata": {},
   "outputs": [],
   "source": [
    "# How does the credit score vary with the current credit balance?"
   ]
  },
  {
   "cell_type": "code",
   "execution_count": 50,
   "id": "6dd7de87",
   "metadata": {},
   "outputs": [
    {
     "name": "stdout",
     "output_type": "stream",
     "text": [
      "Current Credit Balance\n",
      "0           1016.580931\n",
      "19          1584.142857\n",
      "38           693.750000\n",
      "57          1787.000000\n",
      "76           748.000000\n",
      "               ...     \n",
      "11361924     733.000000\n",
      "11796435     710.000000\n",
      "12746397     724.000000\n",
      "12986956     691.000000\n",
      "32878968    7320.000000\n",
      "Name: Credit Score, Length: 32730, dtype: float64\n"
     ]
    }
   ],
   "source": [
    "credit_score_vs_credit_balance = df2.groupby('Current Credit Balance')['Credit Score'].mean()\n",
    "print(credit_score_vs_credit_balance)"
   ]
  },
  {
   "cell_type": "code",
   "execution_count": null,
   "id": "bfbae21f",
   "metadata": {},
   "outputs": [],
   "source": [
    "# Is there a correlation between the annual income and the current credit balance?"
   ]
  },
  {
   "cell_type": "code",
   "execution_count": 51,
   "id": "0c94337e",
   "metadata": {},
   "outputs": [
    {
     "name": "stdout",
     "output_type": "stream",
     "text": [
      "0.31233969256415356\n"
     ]
    }
   ],
   "source": [
    "correlation_annual_income_credit_balance = df2['Annual Income'].corr(df2['Current Credit Balance'])\n",
    "print(correlation_annual_income_credit_balance)"
   ]
  },
  {
   "cell_type": "code",
   "execution_count": null,
   "id": "7aac8cfb",
   "metadata": {},
   "outputs": [],
   "source": [
    "# Interpretation: Yes, there is positive correlation between annual income and current credit balance."
   ]
  },
  {
   "cell_type": "code",
   "execution_count": null,
   "id": "886f380b",
   "metadata": {},
   "outputs": [],
   "source": [
    "# What is the distribution of annual income across different terms (short-term vs. long-term)?"
   ]
  },
  {
   "cell_type": "code",
   "execution_count": 52,
   "id": "38070063",
   "metadata": {},
   "outputs": [
    {
     "name": "stdout",
     "output_type": "stream",
     "text": [
      "              count          mean           std       min        25%  \\\n",
      "Term                                                                   \n",
      "Long Term   23106.0  1.525574e+06  9.254852e+05  153178.0  985036.00   \n",
      "Short Term  57740.0  1.319332e+06  1.132423e+06   76627.0  787222.25   \n",
      "\n",
      "                  50%         75%          max  \n",
      "Term                                            \n",
      "Long Term   1326466.0  1800824.75   30838995.0  \n",
      "Short Term  1127536.0  1584486.00  165557393.0  \n"
     ]
    }
   ],
   "source": [
    "annual_income_distribution_terms = df2.groupby('Term')['Annual Income'].describe()\n",
    "print(annual_income_distribution_terms)"
   ]
  },
  {
   "cell_type": "code",
   "execution_count": null,
   "id": "d75b3c1e",
   "metadata": {},
   "outputs": [],
   "source": [
    "# How does the credit score vary with the number of credit problems?"
   ]
  },
  {
   "cell_type": "code",
   "execution_count": 53,
   "id": "b4caeb34",
   "metadata": {},
   "outputs": [
    {
     "name": "stdout",
     "output_type": "stream",
     "text": [
      "Number of Credit Problems\n",
      "0     1079.182219\n",
      "1     1058.039044\n",
      "2     1092.888679\n",
      "3      938.557003\n",
      "4     1148.871287\n",
      "5     1283.906977\n",
      "6     1106.000000\n",
      "7      714.571429\n",
      "8      714.500000\n",
      "9      701.000000\n",
      "10     744.000000\n",
      "11     696.000000\n",
      "12    7200.000000\n",
      "15     746.000000\n",
      "Name: Credit Score, dtype: float64\n"
     ]
    }
   ],
   "source": [
    "credit_score_vs_credit_problems = df2.groupby('Number of Credit Problems')['Credit Score'].mean()\n",
    "print(credit_score_vs_credit_problems)"
   ]
  },
  {
   "cell_type": "code",
   "execution_count": null,
   "id": "867628b8",
   "metadata": {},
   "outputs": [],
   "source": [
    "# Is there a correlation between the current loan amount and the number of credit problems?"
   ]
  },
  {
   "cell_type": "code",
   "execution_count": 54,
   "id": "a5c82218",
   "metadata": {},
   "outputs": [
    {
     "name": "stdout",
     "output_type": "stream",
     "text": [
      "-0.002794810916405668\n"
     ]
    }
   ],
   "source": [
    "correlation_loan_amount_credit_problems = df2['Current Loan Amount'].corr(df2['Number of Credit Problems'])\n",
    "print(correlation_loan_amount_credit_problems)"
   ]
  },
  {
   "cell_type": "code",
   "execution_count": null,
   "id": "c757525b",
   "metadata": {},
   "outputs": [],
   "source": [
    "# Interpretaion: Yes, there is a negative correlation between current loan amount and number of credit problems."
   ]
  },
  {
   "cell_type": "code",
   "execution_count": null,
   "id": "bee8004f",
   "metadata": {},
   "outputs": [],
   "source": [
    "# What is the relationship between the number of open accounts and the years of credit history?"
   ]
  },
  {
   "cell_type": "code",
   "execution_count": 55,
   "id": "f99b5f51",
   "metadata": {
    "scrolled": true
   },
   "outputs": [
    {
     "name": "stdout",
     "output_type": "stream",
     "text": [
      "Years of Credit History\n",
      "3.6     13.000000\n",
      "3.7      7.000000\n",
      "3.8      8.666667\n",
      "3.9      6.500000\n",
      "4.0     10.166667\n",
      "          ...    \n",
      "59.7     7.000000\n",
      "59.9     9.000000\n",
      "60.5     8.500000\n",
      "65.0    12.000000\n",
      "70.5     5.000000\n",
      "Name: Number of Open Accounts, Length: 506, dtype: float64\n"
     ]
    }
   ],
   "source": [
    "open_accounts_vs_credit_history = df2.groupby('Years of Credit History')['Number of Open Accounts'].mean()\n",
    "print(open_accounts_vs_credit_history)"
   ]
  }
 ],
 "metadata": {
  "kernelspec": {
   "display_name": "Python 3 (ipykernel)",
   "language": "python",
   "name": "python3"
  },
  "language_info": {
   "codemirror_mode": {
    "name": "ipython",
    "version": 3
   },
   "file_extension": ".py",
   "mimetype": "text/x-python",
   "name": "python",
   "nbconvert_exporter": "python",
   "pygments_lexer": "ipython3",
   "version": "3.11.5"
  }
 },
 "nbformat": 4,
 "nbformat_minor": 5
}
