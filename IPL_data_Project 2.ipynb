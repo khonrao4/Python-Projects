{
 "cells": [
  {
   "cell_type": "markdown",
   "id": "2e529dc8",
   "metadata": {},
   "source": [
    "# Python Project Dataset:IPL"
   ]
  },
  {
   "cell_type": "code",
   "execution_count": 1,
   "id": "d14e1ac4",
   "metadata": {},
   "outputs": [],
   "source": [
    "import pandas as pd"
   ]
  },
  {
   "cell_type": "code",
   "execution_count": 2,
   "id": "b9f6a1f0",
   "metadata": {},
   "outputs": [],
   "source": [
    "df1=pd.read_csv(\"C:/Users/KUNAL/OneDrive/Desktop/IPL_Data_analysis/IPL_Dataset.csv\")"
   ]
  },
  {
   "cell_type": "code",
   "execution_count": 3,
   "id": "87b778e0",
   "metadata": {},
   "outputs": [
    {
     "data": {
      "text/html": [
       "<div>\n",
       "<style scoped>\n",
       "    .dataframe tbody tr th:only-of-type {\n",
       "        vertical-align: middle;\n",
       "    }\n",
       "\n",
       "    .dataframe tbody tr th {\n",
       "        vertical-align: top;\n",
       "    }\n",
       "\n",
       "    .dataframe thead th {\n",
       "        text-align: right;\n",
       "    }\n",
       "</style>\n",
       "<table border=\"1\" class=\"dataframe\">\n",
       "  <thead>\n",
       "    <tr style=\"text-align: right;\">\n",
       "      <th></th>\n",
       "      <th>match_id</th>\n",
       "      <th>inning</th>\n",
       "      <th>batting_team</th>\n",
       "      <th>bowling_team</th>\n",
       "      <th>over</th>\n",
       "      <th>ball</th>\n",
       "      <th>batsman</th>\n",
       "      <th>non_striker</th>\n",
       "      <th>bowler</th>\n",
       "      <th>is_super_over</th>\n",
       "      <th>...</th>\n",
       "      <th>bye_runs</th>\n",
       "      <th>legbye_runs</th>\n",
       "      <th>noball_runs</th>\n",
       "      <th>penalty_runs</th>\n",
       "      <th>batsman_runs</th>\n",
       "      <th>extra_runs</th>\n",
       "      <th>total_runs</th>\n",
       "      <th>player_dismissed</th>\n",
       "      <th>dismissal_kind</th>\n",
       "      <th>fielder</th>\n",
       "    </tr>\n",
       "  </thead>\n",
       "  <tbody>\n",
       "    <tr>\n",
       "      <th>0</th>\n",
       "      <td>1</td>\n",
       "      <td>1</td>\n",
       "      <td>Sunrisers Hyderabad</td>\n",
       "      <td>Royal Challengers Bangalore</td>\n",
       "      <td>1</td>\n",
       "      <td>1</td>\n",
       "      <td>DA Warner</td>\n",
       "      <td>S Dhawan</td>\n",
       "      <td>TS Mills</td>\n",
       "      <td>0</td>\n",
       "      <td>...</td>\n",
       "      <td>0</td>\n",
       "      <td>0</td>\n",
       "      <td>0</td>\n",
       "      <td>0</td>\n",
       "      <td>0</td>\n",
       "      <td>0</td>\n",
       "      <td>0</td>\n",
       "      <td>NaN</td>\n",
       "      <td>NaN</td>\n",
       "      <td>NaN</td>\n",
       "    </tr>\n",
       "    <tr>\n",
       "      <th>1</th>\n",
       "      <td>1</td>\n",
       "      <td>1</td>\n",
       "      <td>Sunrisers Hyderabad</td>\n",
       "      <td>Royal Challengers Bangalore</td>\n",
       "      <td>1</td>\n",
       "      <td>2</td>\n",
       "      <td>DA Warner</td>\n",
       "      <td>S Dhawan</td>\n",
       "      <td>TS Mills</td>\n",
       "      <td>0</td>\n",
       "      <td>...</td>\n",
       "      <td>0</td>\n",
       "      <td>0</td>\n",
       "      <td>0</td>\n",
       "      <td>0</td>\n",
       "      <td>0</td>\n",
       "      <td>0</td>\n",
       "      <td>0</td>\n",
       "      <td>NaN</td>\n",
       "      <td>NaN</td>\n",
       "      <td>NaN</td>\n",
       "    </tr>\n",
       "    <tr>\n",
       "      <th>2</th>\n",
       "      <td>1</td>\n",
       "      <td>1</td>\n",
       "      <td>Sunrisers Hyderabad</td>\n",
       "      <td>Royal Challengers Bangalore</td>\n",
       "      <td>1</td>\n",
       "      <td>3</td>\n",
       "      <td>DA Warner</td>\n",
       "      <td>S Dhawan</td>\n",
       "      <td>TS Mills</td>\n",
       "      <td>0</td>\n",
       "      <td>...</td>\n",
       "      <td>0</td>\n",
       "      <td>0</td>\n",
       "      <td>0</td>\n",
       "      <td>0</td>\n",
       "      <td>4</td>\n",
       "      <td>0</td>\n",
       "      <td>4</td>\n",
       "      <td>NaN</td>\n",
       "      <td>NaN</td>\n",
       "      <td>NaN</td>\n",
       "    </tr>\n",
       "    <tr>\n",
       "      <th>3</th>\n",
       "      <td>1</td>\n",
       "      <td>1</td>\n",
       "      <td>Sunrisers Hyderabad</td>\n",
       "      <td>Royal Challengers Bangalore</td>\n",
       "      <td>1</td>\n",
       "      <td>4</td>\n",
       "      <td>DA Warner</td>\n",
       "      <td>S Dhawan</td>\n",
       "      <td>TS Mills</td>\n",
       "      <td>0</td>\n",
       "      <td>...</td>\n",
       "      <td>0</td>\n",
       "      <td>0</td>\n",
       "      <td>0</td>\n",
       "      <td>0</td>\n",
       "      <td>0</td>\n",
       "      <td>0</td>\n",
       "      <td>0</td>\n",
       "      <td>NaN</td>\n",
       "      <td>NaN</td>\n",
       "      <td>NaN</td>\n",
       "    </tr>\n",
       "    <tr>\n",
       "      <th>4</th>\n",
       "      <td>1</td>\n",
       "      <td>1</td>\n",
       "      <td>Sunrisers Hyderabad</td>\n",
       "      <td>Royal Challengers Bangalore</td>\n",
       "      <td>1</td>\n",
       "      <td>5</td>\n",
       "      <td>DA Warner</td>\n",
       "      <td>S Dhawan</td>\n",
       "      <td>TS Mills</td>\n",
       "      <td>0</td>\n",
       "      <td>...</td>\n",
       "      <td>0</td>\n",
       "      <td>0</td>\n",
       "      <td>0</td>\n",
       "      <td>0</td>\n",
       "      <td>0</td>\n",
       "      <td>2</td>\n",
       "      <td>2</td>\n",
       "      <td>NaN</td>\n",
       "      <td>NaN</td>\n",
       "      <td>NaN</td>\n",
       "    </tr>\n",
       "    <tr>\n",
       "      <th>...</th>\n",
       "      <td>...</td>\n",
       "      <td>...</td>\n",
       "      <td>...</td>\n",
       "      <td>...</td>\n",
       "      <td>...</td>\n",
       "      <td>...</td>\n",
       "      <td>...</td>\n",
       "      <td>...</td>\n",
       "      <td>...</td>\n",
       "      <td>...</td>\n",
       "      <td>...</td>\n",
       "      <td>...</td>\n",
       "      <td>...</td>\n",
       "      <td>...</td>\n",
       "      <td>...</td>\n",
       "      <td>...</td>\n",
       "      <td>...</td>\n",
       "      <td>...</td>\n",
       "      <td>...</td>\n",
       "      <td>...</td>\n",
       "      <td>...</td>\n",
       "    </tr>\n",
       "    <tr>\n",
       "      <th>150455</th>\n",
       "      <td>636</td>\n",
       "      <td>2</td>\n",
       "      <td>Royal Challengers Bangalore</td>\n",
       "      <td>Sunrisers Hyderabad</td>\n",
       "      <td>20</td>\n",
       "      <td>2</td>\n",
       "      <td>Sachin Baby</td>\n",
       "      <td>CJ Jordan</td>\n",
       "      <td>B Kumar</td>\n",
       "      <td>0</td>\n",
       "      <td>...</td>\n",
       "      <td>0</td>\n",
       "      <td>0</td>\n",
       "      <td>0</td>\n",
       "      <td>0</td>\n",
       "      <td>2</td>\n",
       "      <td>0</td>\n",
       "      <td>2</td>\n",
       "      <td>NaN</td>\n",
       "      <td>NaN</td>\n",
       "      <td>NaN</td>\n",
       "    </tr>\n",
       "    <tr>\n",
       "      <th>150456</th>\n",
       "      <td>636</td>\n",
       "      <td>2</td>\n",
       "      <td>Royal Challengers Bangalore</td>\n",
       "      <td>Sunrisers Hyderabad</td>\n",
       "      <td>20</td>\n",
       "      <td>3</td>\n",
       "      <td>Sachin Baby</td>\n",
       "      <td>CJ Jordan</td>\n",
       "      <td>B Kumar</td>\n",
       "      <td>0</td>\n",
       "      <td>...</td>\n",
       "      <td>0</td>\n",
       "      <td>0</td>\n",
       "      <td>0</td>\n",
       "      <td>0</td>\n",
       "      <td>0</td>\n",
       "      <td>0</td>\n",
       "      <td>0</td>\n",
       "      <td>CJ Jordan</td>\n",
       "      <td>run out</td>\n",
       "      <td>NV Ojha</td>\n",
       "    </tr>\n",
       "    <tr>\n",
       "      <th>150457</th>\n",
       "      <td>636</td>\n",
       "      <td>2</td>\n",
       "      <td>Royal Challengers Bangalore</td>\n",
       "      <td>Sunrisers Hyderabad</td>\n",
       "      <td>20</td>\n",
       "      <td>4</td>\n",
       "      <td>Iqbal Abdulla</td>\n",
       "      <td>Sachin Baby</td>\n",
       "      <td>B Kumar</td>\n",
       "      <td>0</td>\n",
       "      <td>...</td>\n",
       "      <td>0</td>\n",
       "      <td>1</td>\n",
       "      <td>0</td>\n",
       "      <td>0</td>\n",
       "      <td>0</td>\n",
       "      <td>1</td>\n",
       "      <td>1</td>\n",
       "      <td>NaN</td>\n",
       "      <td>NaN</td>\n",
       "      <td>NaN</td>\n",
       "    </tr>\n",
       "    <tr>\n",
       "      <th>150458</th>\n",
       "      <td>636</td>\n",
       "      <td>2</td>\n",
       "      <td>Royal Challengers Bangalore</td>\n",
       "      <td>Sunrisers Hyderabad</td>\n",
       "      <td>20</td>\n",
       "      <td>5</td>\n",
       "      <td>Sachin Baby</td>\n",
       "      <td>Iqbal Abdulla</td>\n",
       "      <td>B Kumar</td>\n",
       "      <td>0</td>\n",
       "      <td>...</td>\n",
       "      <td>0</td>\n",
       "      <td>0</td>\n",
       "      <td>0</td>\n",
       "      <td>0</td>\n",
       "      <td>1</td>\n",
       "      <td>0</td>\n",
       "      <td>1</td>\n",
       "      <td>NaN</td>\n",
       "      <td>NaN</td>\n",
       "      <td>NaN</td>\n",
       "    </tr>\n",
       "    <tr>\n",
       "      <th>150459</th>\n",
       "      <td>636</td>\n",
       "      <td>2</td>\n",
       "      <td>Royal Challengers Bangalore</td>\n",
       "      <td>Sunrisers Hyderabad</td>\n",
       "      <td>20</td>\n",
       "      <td>6</td>\n",
       "      <td>Iqbal Abdulla</td>\n",
       "      <td>Sachin Baby</td>\n",
       "      <td>B Kumar</td>\n",
       "      <td>0</td>\n",
       "      <td>...</td>\n",
       "      <td>0</td>\n",
       "      <td>0</td>\n",
       "      <td>0</td>\n",
       "      <td>0</td>\n",
       "      <td>4</td>\n",
       "      <td>0</td>\n",
       "      <td>4</td>\n",
       "      <td>NaN</td>\n",
       "      <td>NaN</td>\n",
       "      <td>NaN</td>\n",
       "    </tr>\n",
       "  </tbody>\n",
       "</table>\n",
       "<p>150460 rows × 21 columns</p>\n",
       "</div>"
      ],
      "text/plain": [
       "        match_id  inning                 batting_team  \\\n",
       "0              1       1          Sunrisers Hyderabad   \n",
       "1              1       1          Sunrisers Hyderabad   \n",
       "2              1       1          Sunrisers Hyderabad   \n",
       "3              1       1          Sunrisers Hyderabad   \n",
       "4              1       1          Sunrisers Hyderabad   \n",
       "...          ...     ...                          ...   \n",
       "150455       636       2  Royal Challengers Bangalore   \n",
       "150456       636       2  Royal Challengers Bangalore   \n",
       "150457       636       2  Royal Challengers Bangalore   \n",
       "150458       636       2  Royal Challengers Bangalore   \n",
       "150459       636       2  Royal Challengers Bangalore   \n",
       "\n",
       "                       bowling_team  over  ball        batsman    non_striker  \\\n",
       "0       Royal Challengers Bangalore     1     1      DA Warner       S Dhawan   \n",
       "1       Royal Challengers Bangalore     1     2      DA Warner       S Dhawan   \n",
       "2       Royal Challengers Bangalore     1     3      DA Warner       S Dhawan   \n",
       "3       Royal Challengers Bangalore     1     4      DA Warner       S Dhawan   \n",
       "4       Royal Challengers Bangalore     1     5      DA Warner       S Dhawan   \n",
       "...                             ...   ...   ...            ...            ...   \n",
       "150455          Sunrisers Hyderabad    20     2    Sachin Baby      CJ Jordan   \n",
       "150456          Sunrisers Hyderabad    20     3    Sachin Baby      CJ Jordan   \n",
       "150457          Sunrisers Hyderabad    20     4  Iqbal Abdulla    Sachin Baby   \n",
       "150458          Sunrisers Hyderabad    20     5    Sachin Baby  Iqbal Abdulla   \n",
       "150459          Sunrisers Hyderabad    20     6  Iqbal Abdulla    Sachin Baby   \n",
       "\n",
       "          bowler  is_super_over  ...  bye_runs  legbye_runs  noball_runs  \\\n",
       "0       TS Mills              0  ...         0            0            0   \n",
       "1       TS Mills              0  ...         0            0            0   \n",
       "2       TS Mills              0  ...         0            0            0   \n",
       "3       TS Mills              0  ...         0            0            0   \n",
       "4       TS Mills              0  ...         0            0            0   \n",
       "...          ...            ...  ...       ...          ...          ...   \n",
       "150455   B Kumar              0  ...         0            0            0   \n",
       "150456   B Kumar              0  ...         0            0            0   \n",
       "150457   B Kumar              0  ...         0            1            0   \n",
       "150458   B Kumar              0  ...         0            0            0   \n",
       "150459   B Kumar              0  ...         0            0            0   \n",
       "\n",
       "        penalty_runs  batsman_runs  extra_runs  total_runs  player_dismissed  \\\n",
       "0                  0             0           0           0               NaN   \n",
       "1                  0             0           0           0               NaN   \n",
       "2                  0             4           0           4               NaN   \n",
       "3                  0             0           0           0               NaN   \n",
       "4                  0             0           2           2               NaN   \n",
       "...              ...           ...         ...         ...               ...   \n",
       "150455             0             2           0           2               NaN   \n",
       "150456             0             0           0           0         CJ Jordan   \n",
       "150457             0             0           1           1               NaN   \n",
       "150458             0             1           0           1               NaN   \n",
       "150459             0             4           0           4               NaN   \n",
       "\n",
       "       dismissal_kind  fielder  \n",
       "0                 NaN      NaN  \n",
       "1                 NaN      NaN  \n",
       "2                 NaN      NaN  \n",
       "3                 NaN      NaN  \n",
       "4                 NaN      NaN  \n",
       "...               ...      ...  \n",
       "150455            NaN      NaN  \n",
       "150456        run out  NV Ojha  \n",
       "150457            NaN      NaN  \n",
       "150458            NaN      NaN  \n",
       "150459            NaN      NaN  \n",
       "\n",
       "[150460 rows x 21 columns]"
      ]
     },
     "execution_count": 3,
     "metadata": {},
     "output_type": "execute_result"
    }
   ],
   "source": [
    "df1"
   ]
  },
  {
   "cell_type": "code",
   "execution_count": 4,
   "id": "ca75300f",
   "metadata": {},
   "outputs": [],
   "source": [
    "# What is the total number of runs scored by each batting team?"
   ]
  },
  {
   "cell_type": "code",
   "execution_count": 5,
   "id": "d39e29b2",
   "metadata": {},
   "outputs": [],
   "source": [
    "team_runs=df1.groupby('batting_team')['total_runs'].sum()"
   ]
  },
  {
   "cell_type": "code",
   "execution_count": 6,
   "id": "5afb1617",
   "metadata": {},
   "outputs": [
    {
     "data": {
      "text/plain": [
       "batting_team\n",
       "Chennai Super Kings            20899\n",
       "Deccan Chargers                11463\n",
       "Delhi Daredevils               21953\n",
       "Gujarat Lions                   4862\n",
       "Kings XI Punjab                23068\n",
       "Kochi Tuskers Kerala            1901\n",
       "Kolkata Knight Riders          21965\n",
       "Mumbai Indians                 24521\n",
       "Pune Warriors                   6358\n",
       "Rajasthan Royals               17703\n",
       "Rising Pune Supergiant          2470\n",
       "Rising Pune Supergiants         2063\n",
       "Royal Challengers Bangalore    23436\n",
       "Sunrisers Hyderabad            11652\n",
       "Name: total_runs, dtype: int64"
      ]
     },
     "execution_count": 6,
     "metadata": {},
     "output_type": "execute_result"
    }
   ],
   "source": [
    "team_runs"
   ]
  },
  {
   "cell_type": "code",
   "execution_count": 7,
   "id": "9399c4e8",
   "metadata": {},
   "outputs": [],
   "source": [
    "# How many wides have been bowled by each bowling team?"
   ]
  },
  {
   "cell_type": "code",
   "execution_count": 8,
   "id": "97991815",
   "metadata": {},
   "outputs": [],
   "source": [
    "wides_bowled = df1[df1['wide_runs'] > 0].groupby('bowling_team')['wide_runs'].sum()"
   ]
  },
  {
   "cell_type": "code",
   "execution_count": 9,
   "id": "edf88889",
   "metadata": {},
   "outputs": [
    {
     "data": {
      "text/plain": [
       "bowling_team\n",
       "Chennai Super Kings            526\n",
       "Deccan Chargers                328\n",
       "Delhi Daredevils               614\n",
       "Gujarat Lions                  107\n",
       "Kings XI Punjab                668\n",
       "Kochi Tuskers Kerala            56\n",
       "Kolkata Knight Riders          658\n",
       "Mumbai Indians                 786\n",
       "Pune Warriors                  174\n",
       "Rajasthan Royals               586\n",
       "Rising Pune Supergiant          69\n",
       "Rising Pune Supergiants         77\n",
       "Royal Challengers Bangalore    725\n",
       "Sunrisers Hyderabad            268\n",
       "Name: wide_runs, dtype: int64"
      ]
     },
     "execution_count": 9,
     "metadata": {},
     "output_type": "execute_result"
    }
   ],
   "source": [
    "wides_bowled"
   ]
  },
  {
   "cell_type": "code",
   "execution_count": 10,
   "id": "c4529cf5",
   "metadata": {},
   "outputs": [],
   "source": [
    "# What is the average number of runs scored per inning by each team?"
   ]
  },
  {
   "cell_type": "code",
   "execution_count": 11,
   "id": "792e6fa2",
   "metadata": {},
   "outputs": [],
   "source": [
    "average_runs_per_inning = df1.groupby(['batting_team', 'match_id'])['total_runs'].sum().groupby('batting_team').mean()"
   ]
  },
  {
   "cell_type": "code",
   "execution_count": 12,
   "id": "84f4a627",
   "metadata": {},
   "outputs": [
    {
     "data": {
      "text/plain": [
       "batting_team\n",
       "Chennai Super Kings            159.534351\n",
       "Deccan Chargers                152.840000\n",
       "Delhi Daredevils               149.340136\n",
       "Gujarat Lions                  162.066667\n",
       "Kings XI Punjab                155.864865\n",
       "Kochi Tuskers Kerala           135.785714\n",
       "Kolkata Knight Riders          148.412162\n",
       "Mumbai Indians                 156.184713\n",
       "Pune Warriors                  141.288889\n",
       "Rajasthan Royals               151.307692\n",
       "Rising Pune Supergiant         154.375000\n",
       "Rising Pune Supergiants        147.357143\n",
       "Royal Challengers Bangalore    154.184211\n",
       "Sunrisers Hyderabad            153.315789\n",
       "Name: total_runs, dtype: float64"
      ]
     },
     "execution_count": 12,
     "metadata": {},
     "output_type": "execute_result"
    }
   ],
   "source": [
    "average_runs_per_inning"
   ]
  },
  {
   "cell_type": "code",
   "execution_count": 13,
   "id": "058eb8de",
   "metadata": {},
   "outputs": [],
   "source": [
    "# Which batsman has scored the highest number of runs?"
   ]
  },
  {
   "cell_type": "code",
   "execution_count": 14,
   "id": "9ee5f3d2",
   "metadata": {},
   "outputs": [],
   "source": [
    "batsman_runs = df1.groupby('batsman')['batsman_runs'].sum()"
   ]
  },
  {
   "cell_type": "code",
   "execution_count": 15,
   "id": "27856386",
   "metadata": {},
   "outputs": [],
   "source": [
    "top_batsman = batsman_runs.idxmax()"
   ]
  },
  {
   "cell_type": "code",
   "execution_count": 16,
   "id": "eadd94cf",
   "metadata": {},
   "outputs": [],
   "source": [
    "top_batsman_runs = batsman_runs.max()"
   ]
  },
  {
   "cell_type": "code",
   "execution_count": 17,
   "id": "032ff029",
   "metadata": {},
   "outputs": [
    {
     "data": {
      "text/plain": [
       "('SK Raina', 4548)"
      ]
     },
     "execution_count": 17,
     "metadata": {},
     "output_type": "execute_result"
    }
   ],
   "source": [
    "top_batsman, top_batsman_runs"
   ]
  },
  {
   "cell_type": "code",
   "execution_count": 18,
   "id": "9ba8b57c",
   "metadata": {},
   "outputs": [],
   "source": [
    "# How many dismissals have occurred of each dismissal kind?"
   ]
  },
  {
   "cell_type": "code",
   "execution_count": 19,
   "id": "8d8bb0d8",
   "metadata": {},
   "outputs": [],
   "source": [
    "dismissal_counts = df1['dismissal_kind'].value_counts()"
   ]
  },
  {
   "cell_type": "code",
   "execution_count": 20,
   "id": "bba3bb6d",
   "metadata": {},
   "outputs": [
    {
     "data": {
      "text/plain": [
       "dismissal_kind\n",
       "caught                   4373\n",
       "bowled                   1382\n",
       "run out                   755\n",
       "lbw                       455\n",
       "stumped                   243\n",
       "caught and bowled         211\n",
       "retired hurt                9\n",
       "hit wicket                  9\n",
       "obstructing the field       1\n",
       "Name: count, dtype: int64"
      ]
     },
     "execution_count": 20,
     "metadata": {},
     "output_type": "execute_result"
    }
   ],
   "source": [
    "dismissal_counts"
   ]
  },
  {
   "cell_type": "code",
   "execution_count": 21,
   "id": "106c1805",
   "metadata": {},
   "outputs": [],
   "source": [
    "# What is the total runs scored by each over?"
   ]
  },
  {
   "cell_type": "code",
   "execution_count": 22,
   "id": "b3ea4697",
   "metadata": {},
   "outputs": [],
   "source": [
    "runs_per_over = df1.groupby('over')['total_runs'].sum()"
   ]
  },
  {
   "cell_type": "code",
   "execution_count": 23,
   "id": "b42041e5",
   "metadata": {},
   "outputs": [
    {
     "data": {
      "text/plain": [
       "over\n",
       "1      7733\n",
       "2      8993\n",
       "3      9852\n",
       "4     10207\n",
       "5     10227\n",
       "6     10397\n",
       "7      8413\n",
       "8      8966\n",
       "9      9247\n",
       "10     9047\n",
       "11     9456\n",
       "12     9694\n",
       "13     9713\n",
       "14     9900\n",
       "15    10240\n",
       "16    10397\n",
       "17    10817\n",
       "18    10899\n",
       "19    10469\n",
       "20     9647\n",
       "Name: total_runs, dtype: int64"
      ]
     },
     "execution_count": 23,
     "metadata": {},
     "output_type": "execute_result"
    }
   ],
   "source": [
    "runs_per_over"
   ]
  },
  {
   "cell_type": "code",
   "execution_count": 24,
   "id": "1b3978d6",
   "metadata": {},
   "outputs": [],
   "source": [
    "# Which bowler has taken the most wickets?"
   ]
  },
  {
   "cell_type": "code",
   "execution_count": 25,
   "id": "af5c5be0",
   "metadata": {},
   "outputs": [],
   "source": [
    "wickets_taken = df1[df1['dismissal_kind'].notnull() & (df1['dismissal_kind'] != 'run out')].groupby('bowler')['dismissal_kind'].count()"
   ]
  },
  {
   "cell_type": "code",
   "execution_count": 26,
   "id": "6c087de9",
   "metadata": {},
   "outputs": [],
   "source": [
    "top_bowler = wickets_taken.idxmax()"
   ]
  },
  {
   "cell_type": "code",
   "execution_count": 27,
   "id": "a20a3b4a",
   "metadata": {},
   "outputs": [],
   "source": [
    "top_wickets = wickets_taken.max()"
   ]
  },
  {
   "cell_type": "code",
   "execution_count": 28,
   "id": "e18573d5",
   "metadata": {},
   "outputs": [
    {
     "data": {
      "text/plain": [
       "('SL Malinga', 154)"
      ]
     },
     "execution_count": 28,
     "metadata": {},
     "output_type": "execute_result"
    }
   ],
   "source": [
    "top_bowler,top_wickets"
   ]
  },
  {
   "cell_type": "code",
   "execution_count": 29,
   "id": "4b6c06a8",
   "metadata": {},
   "outputs": [],
   "source": [
    "# How many super overs have been played in total?"
   ]
  },
  {
   "cell_type": "code",
   "execution_count": 30,
   "id": "35722f8d",
   "metadata": {},
   "outputs": [],
   "source": [
    "super_overs = df1[df1['over'] > 20].groupby('match_id').ngroups"
   ]
  },
  {
   "cell_type": "code",
   "execution_count": 31,
   "id": "53de9ab1",
   "metadata": {},
   "outputs": [
    {
     "data": {
      "text/plain": [
       "0"
      ]
     },
     "execution_count": 31,
     "metadata": {},
     "output_type": "execute_result"
    }
   ],
   "source": [
    "super_overs"
   ]
  },
  {
   "cell_type": "code",
   "execution_count": 32,
   "id": "179330d5",
   "metadata": {},
   "outputs": [],
   "source": [
    "# What is the average number of extras (wide runs, bye runs, legbye runs, noball runs, penalty runs) conceded per inning by each bowling team?"
   ]
  },
  {
   "cell_type": "code",
   "execution_count": 33,
   "id": "ec925fcc",
   "metadata": {},
   "outputs": [],
   "source": [
    "extras_cols = ['wide_runs', 'bye_runs', 'legbye_runs', 'noball_runs', 'penalty_runs']\n",
    "df1['total_extras'] = df1[extras_cols].sum(axis=1)"
   ]
  },
  {
   "cell_type": "code",
   "execution_count": 34,
   "id": "bd1bcd31",
   "metadata": {},
   "outputs": [
    {
     "data": {
      "text/plain": [
       "bowling_team\n",
       "Chennai Super Kings            7.648855\n",
       "Deccan Chargers                8.786667\n",
       "Delhi Daredevils               8.130137\n",
       "Gujarat Lions                  6.266667\n",
       "Kings XI Punjab                8.310811\n",
       "Kochi Tuskers Kerala           7.857143\n",
       "Kolkata Knight Riders          8.135135\n",
       "Mumbai Indians                 8.898089\n",
       "Pune Warriors                  7.282609\n",
       "Rajasthan Royals               8.966102\n",
       "Rising Pune Supergiant         6.937500\n",
       "Rising Pune Supergiants        7.714286\n",
       "Royal Challengers Bangalore    8.668874\n",
       "Sunrisers Hyderabad            6.407895\n",
       "Name: total_extras, dtype: float64"
      ]
     },
     "execution_count": 34,
     "metadata": {},
     "output_type": "execute_result"
    }
   ],
   "source": [
    "average_extras_per_inning = df1.groupby(['bowling_team', 'match_id'])['total_extras'].sum().groupby('bowling_team').mean()\n",
    "average_extras_per_inning"
   ]
  },
  {
   "cell_type": "code",
   "execution_count": 35,
   "id": "9f6a2e81",
   "metadata": {},
   "outputs": [],
   "source": [
    "# How many runs have been scored by each batsman-bowler pair?"
   ]
  },
  {
   "cell_type": "code",
   "execution_count": 36,
   "id": "bb083332",
   "metadata": {},
   "outputs": [],
   "source": [
    "batsman_bowler_runs = df1.groupby(['batsman', 'bowler'])['batsman_runs'].sum()"
   ]
  },
  {
   "cell_type": "code",
   "execution_count": 37,
   "id": "d36c59b8",
   "metadata": {},
   "outputs": [
    {
     "data": {
      "text/plain": [
       "batsman         bowler         \n",
       "A Ashish Reddy  A Nehra             7\n",
       "                AB Dinda            9\n",
       "                AD Mathews         25\n",
       "                AD Russell          4\n",
       "                Anureet Singh       2\n",
       "                                   ..\n",
       "Z Khan          SR Watson           3\n",
       "                Shakib Al Hasan     3\n",
       "                Sohail Tanvir       3\n",
       "                VRV Singh           0\n",
       "                YK Pathan           1\n",
       "Name: batsman_runs, Length: 17151, dtype: int64"
      ]
     },
     "execution_count": 37,
     "metadata": {},
     "output_type": "execute_result"
    }
   ],
   "source": [
    "batsman_bowler_runs"
   ]
  },
  {
   "cell_type": "code",
   "execution_count": 38,
   "id": "76841fc3",
   "metadata": {},
   "outputs": [],
   "source": [
    "# What is the most common dismissal kind?"
   ]
  },
  {
   "cell_type": "code",
   "execution_count": 39,
   "id": "9b30c678",
   "metadata": {},
   "outputs": [],
   "source": [
    "most_common_dismissal = df1['dismissal_kind'].value_counts().idxmax()"
   ]
  },
  {
   "cell_type": "code",
   "execution_count": 40,
   "id": "39c51b2c",
   "metadata": {},
   "outputs": [
    {
     "data": {
      "text/plain": [
       "'caught'"
      ]
     },
     "execution_count": 40,
     "metadata": {},
     "output_type": "execute_result"
    }
   ],
   "source": [
    "most_common_dismissal"
   ]
  },
  {
   "cell_type": "code",
   "execution_count": 41,
   "id": "da4bfd5f",
   "metadata": {},
   "outputs": [],
   "source": [
    "# How many matches have been played by each batting team?"
   ]
  },
  {
   "cell_type": "code",
   "execution_count": 42,
   "id": "ab4f39d3",
   "metadata": {},
   "outputs": [],
   "source": [
    "matches_played = df1.groupby('batting_team')['match_id'].nunique()"
   ]
  },
  {
   "cell_type": "code",
   "execution_count": 43,
   "id": "58c11b18",
   "metadata": {},
   "outputs": [
    {
     "data": {
      "text/plain": [
       "batting_team\n",
       "Chennai Super Kings            131\n",
       "Deccan Chargers                 75\n",
       "Delhi Daredevils               147\n",
       "Gujarat Lions                   30\n",
       "Kings XI Punjab                148\n",
       "Kochi Tuskers Kerala            14\n",
       "Kolkata Knight Riders          148\n",
       "Mumbai Indians                 157\n",
       "Pune Warriors                   45\n",
       "Rajasthan Royals               117\n",
       "Rising Pune Supergiant          16\n",
       "Rising Pune Supergiants         14\n",
       "Royal Challengers Bangalore    152\n",
       "Sunrisers Hyderabad             76\n",
       "Name: match_id, dtype: int64"
      ]
     },
     "execution_count": 43,
     "metadata": {},
     "output_type": "execute_result"
    }
   ],
   "source": [
    "matches_played"
   ]
  },
  {
   "cell_type": "code",
   "execution_count": 44,
   "id": "af0d2450",
   "metadata": {},
   "outputs": [],
   "source": [
    "# What is the average number of runs scored in each over?"
   ]
  },
  {
   "cell_type": "code",
   "execution_count": 45,
   "id": "395d6c32",
   "metadata": {},
   "outputs": [],
   "source": [
    "average_runs_per_over = df1.groupby('over')['total_runs'].mean()"
   ]
  },
  {
   "cell_type": "code",
   "execution_count": 46,
   "id": "97f4dad6",
   "metadata": {},
   "outputs": [
    {
     "data": {
      "text/plain": [
       "over\n",
       "1     0.955635\n",
       "2     1.121601\n",
       "3     1.242057\n",
       "4     1.291698\n",
       "5     1.298832\n",
       "6     1.321933\n",
       "7     1.074869\n",
       "8     1.149635\n",
       "9     1.189325\n",
       "10    1.170981\n",
       "11    1.233177\n",
       "12    1.269347\n",
       "13    1.275509\n",
       "14    1.313694\n",
       "15    1.373206\n",
       "16    1.418031\n",
       "17    1.495300\n",
       "18    1.561685\n",
       "19    1.600031\n",
       "20    1.707736\n",
       "Name: total_runs, dtype: float64"
      ]
     },
     "execution_count": 46,
     "metadata": {},
     "output_type": "execute_result"
    }
   ],
   "source": [
    "average_runs_per_over"
   ]
  },
  {
   "cell_type": "code",
   "execution_count": 47,
   "id": "71a2b28c",
   "metadata": {},
   "outputs": [],
   "source": [
    "# Which fielder has been involved in the most dismissals?"
   ]
  },
  {
   "cell_type": "code",
   "execution_count": 48,
   "id": "dcdc7ce0",
   "metadata": {},
   "outputs": [],
   "source": [
    "fielder_dismissals = df1['fielder'].value_counts()"
   ]
  },
  {
   "cell_type": "code",
   "execution_count": 49,
   "id": "e8bce1c2",
   "metadata": {},
   "outputs": [],
   "source": [
    "top_fielder = fielder_dismissals.idxmax()"
   ]
  },
  {
   "cell_type": "code",
   "execution_count": 50,
   "id": "58918eff",
   "metadata": {},
   "outputs": [],
   "source": [
    "top_fielder_dismissals = fielder_dismissals.max()"
   ]
  },
  {
   "cell_type": "code",
   "execution_count": 51,
   "id": "34124327",
   "metadata": {},
   "outputs": [
    {
     "data": {
      "text/plain": [
       "('KD Karthik', 127)"
      ]
     },
     "execution_count": 51,
     "metadata": {},
     "output_type": "execute_result"
    }
   ],
   "source": [
    "top_fielder, top_fielder_dismissals"
   ]
  },
  {
   "cell_type": "code",
   "execution_count": 52,
   "id": "fe011f1a",
   "metadata": {},
   "outputs": [],
   "source": [
    "# How does the number of runs scored vary with the over number?"
   ]
  },
  {
   "cell_type": "code",
   "execution_count": 53,
   "id": "2208e798",
   "metadata": {},
   "outputs": [],
   "source": [
    "runs_per_over_variation = df1.groupby('over')['total_runs'].sum()"
   ]
  },
  {
   "cell_type": "code",
   "execution_count": 54,
   "id": "e7d51cc5",
   "metadata": {},
   "outputs": [
    {
     "data": {
      "text/plain": [
       "over\n",
       "1      7733\n",
       "2      8993\n",
       "3      9852\n",
       "4     10207\n",
       "5     10227\n",
       "6     10397\n",
       "7      8413\n",
       "8      8966\n",
       "9      9247\n",
       "10     9047\n",
       "11     9456\n",
       "12     9694\n",
       "13     9713\n",
       "14     9900\n",
       "15    10240\n",
       "16    10397\n",
       "17    10817\n",
       "18    10899\n",
       "19    10469\n",
       "20     9647\n",
       "Name: total_runs, dtype: int64"
      ]
     },
     "execution_count": 54,
     "metadata": {},
     "output_type": "execute_result"
    }
   ],
   "source": [
    "runs_per_over_variation"
   ]
  },
  {
   "cell_type": "code",
   "execution_count": 55,
   "id": "044eb493",
   "metadata": {},
   "outputs": [],
   "source": [
    "# Interpretation: The number of runs scored generally tends to increase as the over number progresses, with higher scoring rates often seen in the final overs of an inning."
   ]
  },
  {
   "cell_type": "code",
   "execution_count": 56,
   "id": "b4d125ec",
   "metadata": {},
   "outputs": [],
   "source": [
    "# how is the relationship between the number of runs scored and the number of extras conceded?"
   ]
  },
  {
   "cell_type": "code",
   "execution_count": 57,
   "id": "acc4d301",
   "metadata": {},
   "outputs": [],
   "source": [
    "correlation_runs_extras = df1[['total_runs', 'total_extras']].corr()"
   ]
  },
  {
   "cell_type": "code",
   "execution_count": 58,
   "id": "d809ad7e",
   "metadata": {},
   "outputs": [
    {
     "data": {
      "text/html": [
       "<div>\n",
       "<style scoped>\n",
       "    .dataframe tbody tr th:only-of-type {\n",
       "        vertical-align: middle;\n",
       "    }\n",
       "\n",
       "    .dataframe tbody tr th {\n",
       "        vertical-align: top;\n",
       "    }\n",
       "\n",
       "    .dataframe thead th {\n",
       "        text-align: right;\n",
       "    }\n",
       "</style>\n",
       "<table border=\"1\" class=\"dataframe\">\n",
       "  <thead>\n",
       "    <tr style=\"text-align: right;\">\n",
       "      <th></th>\n",
       "      <th>total_runs</th>\n",
       "      <th>total_extras</th>\n",
       "    </tr>\n",
       "  </thead>\n",
       "  <tbody>\n",
       "    <tr>\n",
       "      <th>total_runs</th>\n",
       "      <td>1.000000</td>\n",
       "      <td>0.078085</td>\n",
       "    </tr>\n",
       "    <tr>\n",
       "      <th>total_extras</th>\n",
       "      <td>0.078085</td>\n",
       "      <td>1.000000</td>\n",
       "    </tr>\n",
       "  </tbody>\n",
       "</table>\n",
       "</div>"
      ],
      "text/plain": [
       "              total_runs  total_extras\n",
       "total_runs      1.000000      0.078085\n",
       "total_extras    0.078085      1.000000"
      ]
     },
     "execution_count": 58,
     "metadata": {},
     "output_type": "execute_result"
    }
   ],
   "source": [
    "correlation_runs_extras"
   ]
  },
  {
   "cell_type": "code",
   "execution_count": 59,
   "id": "cc7aca8d",
   "metadata": {},
   "outputs": [],
   "source": [
    "# Interpretation : The number of runs scored and the number of extras conceded generally show a positive correlation, indicating that higher extra runs typically accompany higher total runs scored in an inning"
   ]
  },
  {
   "cell_type": "code",
   "execution_count": 60,
   "id": "50ccf2fe",
   "metadata": {},
   "outputs": [],
   "source": [
    "# Are there any notable trends in the distribution of runs scored by batting teams across innings?"
   ]
  },
  {
   "cell_type": "code",
   "execution_count": 61,
   "id": "23f4ae31",
   "metadata": {},
   "outputs": [],
   "source": [
    "runs_distribution = df1.groupby(['batting_team', 'inning'])['total_runs'].sum()"
   ]
  },
  {
   "cell_type": "code",
   "execution_count": 62,
   "id": "3c3323d6",
   "metadata": {},
   "outputs": [
    {
     "data": {
      "text/plain": [
       "batting_team                 inning\n",
       "Chennai Super Kings          1         12693\n",
       "                             2          8197\n",
       "                             3             9\n",
       "Deccan Chargers              1          6765\n",
       "                             2          4698\n",
       "Delhi Daredevils             1          9625\n",
       "                             2         12317\n",
       "                             4            11\n",
       "Gujarat Lions                1          2267\n",
       "                             2          2589\n",
       "                             4             6\n",
       "Kings XI Punjab              1         12288\n",
       "                             2         10755\n",
       "                             3            15\n",
       "                             4            10\n",
       "Kochi Tuskers Kerala         1          1009\n",
       "                             2           892\n",
       "Kolkata Knight Riders        1         10542\n",
       "                             2         11397\n",
       "                             3            26\n",
       "Mumbai Indians               1         13387\n",
       "                             2         11123\n",
       "                             3            11\n",
       "Pune Warriors                1          2973\n",
       "                             2          3385\n",
       "Rajasthan Royals             1          8470\n",
       "                             2          9198\n",
       "                             4            35\n",
       "Rising Pune Supergiant       1          1304\n",
       "                             2          1166\n",
       "Rising Pune Supergiants      1          1123\n",
       "                             2           940\n",
       "Royal Challengers Bangalore  1         11705\n",
       "                             2         11701\n",
       "                             3            15\n",
       "                             4            15\n",
       "Sunrisers Hyderabad          1          7396\n",
       "                             2          4236\n",
       "                             3            20\n",
       "Name: total_runs, dtype: int64"
      ]
     },
     "execution_count": 62,
     "metadata": {},
     "output_type": "execute_result"
    }
   ],
   "source": [
    "runs_distribution"
   ]
  },
  {
   "cell_type": "code",
   "execution_count": 63,
   "id": "d4e725dc",
   "metadata": {},
   "outputs": [],
   "source": [
    " # Which batting team has the highest average runs per match?"
   ]
  },
  {
   "cell_type": "code",
   "execution_count": 64,
   "id": "97444c8a",
   "metadata": {},
   "outputs": [],
   "source": [
    "average_runs_per_match = df1.groupby('batting_team')['total_runs'].mean()"
   ]
  },
  {
   "cell_type": "code",
   "execution_count": 65,
   "id": "0f060d25",
   "metadata": {},
   "outputs": [],
   "source": [
    "highest_average_runs_team = average_runs_per_match.idxmax()"
   ]
  },
  {
   "cell_type": "code",
   "execution_count": 66,
   "id": "7143f532",
   "metadata": {},
   "outputs": [],
   "source": [
    "highest_average_runs = average_runs_per_match.max()"
   ]
  },
  {
   "cell_type": "code",
   "execution_count": 67,
   "id": "ff4314e0",
   "metadata": {},
   "outputs": [
    {
     "data": {
      "text/plain": [
       "('Gujarat Lions', 1.363432417274257)"
      ]
     },
     "execution_count": 67,
     "metadata": {},
     "output_type": "execute_result"
    }
   ],
   "source": [
    "highest_average_runs_team, highest_average_runs"
   ]
  },
  {
   "cell_type": "code",
   "execution_count": 68,
   "id": "725215f6",
   "metadata": {},
   "outputs": [],
   "source": [
    "# What is the total runs scored by each batsman?"
   ]
  },
  {
   "cell_type": "code",
   "execution_count": 69,
   "id": "aa56dade",
   "metadata": {},
   "outputs": [],
   "source": [
    "total_runs_batsman = df1.groupby('batsman')['batsman_runs'].sum()"
   ]
  },
  {
   "cell_type": "code",
   "execution_count": 70,
   "id": "d06e6b5e",
   "metadata": {},
   "outputs": [
    {
     "data": {
      "text/plain": [
       "batsman\n",
       "A Ashish Reddy     280\n",
       "A Chandila           4\n",
       "A Chopra            53\n",
       "A Choudhary         25\n",
       "A Flintoff          62\n",
       "                  ... \n",
       "YV Takawale        192\n",
       "Yashpal Singh       47\n",
       "Younis Khan          3\n",
       "Yuvraj Singh      2591\n",
       "Z Khan             117\n",
       "Name: batsman_runs, Length: 461, dtype: int64"
      ]
     },
     "execution_count": 70,
     "metadata": {},
     "output_type": "execute_result"
    }
   ],
   "source": [
    "total_runs_batsman"
   ]
  },
  {
   "cell_type": "code",
   "execution_count": 71,
   "id": "d7262074",
   "metadata": {},
   "outputs": [],
   "source": [
    "# How does the average number of runs scored per inning vary across different bowling teams?"
   ]
  },
  {
   "cell_type": "code",
   "execution_count": 72,
   "id": "ed0c3e58",
   "metadata": {},
   "outputs": [],
   "source": [
    "average_runs_against_bowling_team = df1.groupby('bowling_team')['total_runs'].mean()"
   ]
  },
  {
   "cell_type": "code",
   "execution_count": 73,
   "id": "dd5805c7",
   "metadata": {},
   "outputs": [
    {
     "data": {
      "text/plain": [
       "bowling_team\n",
       "Chennai Super Kings            1.271687\n",
       "Deccan Chargers                1.285319\n",
       "Delhi Daredevils               1.306685\n",
       "Gujarat Lions                  1.435825\n",
       "Kings XI Punjab                1.337971\n",
       "Kochi Tuskers Kerala           1.230483\n",
       "Kolkata Knight Riders          1.265579\n",
       "Mumbai Indians                 1.262514\n",
       "Pune Warriors                  1.256551\n",
       "Rajasthan Royals               1.265254\n",
       "Rising Pune Supergiant         1.263485\n",
       "Rising Pune Supergiants        1.308359\n",
       "Royal Challengers Bangalore    1.318192\n",
       "Sunrisers Hyderabad            1.289941\n",
       "Name: total_runs, dtype: float64"
      ]
     },
     "execution_count": 73,
     "metadata": {},
     "output_type": "execute_result"
    }
   ],
   "source": [
    "average_runs_against_bowling_team"
   ]
  },
  {
   "cell_type": "code",
   "execution_count": 74,
   "id": "ccaf6c9f",
   "metadata": {},
   "outputs": [],
   "source": [
    "# how is the relationship between the number of wides and the number of no balls bowled?"
   ]
  },
  {
   "cell_type": "code",
   "execution_count": 75,
   "id": "e1f0c17f",
   "metadata": {},
   "outputs": [],
   "source": [
    "correlation_wides_noballs = df1[['wide_runs', 'noball_runs']].corr()"
   ]
  },
  {
   "cell_type": "code",
   "execution_count": 76,
   "id": "6c9a9c36",
   "metadata": {},
   "outputs": [
    {
     "data": {
      "text/html": [
       "<div>\n",
       "<style scoped>\n",
       "    .dataframe tbody tr th:only-of-type {\n",
       "        vertical-align: middle;\n",
       "    }\n",
       "\n",
       "    .dataframe tbody tr th {\n",
       "        vertical-align: top;\n",
       "    }\n",
       "\n",
       "    .dataframe thead th {\n",
       "        text-align: right;\n",
       "    }\n",
       "</style>\n",
       "<table border=\"1\" class=\"dataframe\">\n",
       "  <thead>\n",
       "    <tr style=\"text-align: right;\">\n",
       "      <th></th>\n",
       "      <th>wide_runs</th>\n",
       "      <th>noball_runs</th>\n",
       "    </tr>\n",
       "  </thead>\n",
       "  <tbody>\n",
       "    <tr>\n",
       "      <th>wide_runs</th>\n",
       "      <td>1.000000</td>\n",
       "      <td>-0.008703</td>\n",
       "    </tr>\n",
       "    <tr>\n",
       "      <th>noball_runs</th>\n",
       "      <td>-0.008703</td>\n",
       "      <td>1.000000</td>\n",
       "    </tr>\n",
       "  </tbody>\n",
       "</table>\n",
       "</div>"
      ],
      "text/plain": [
       "             wide_runs  noball_runs\n",
       "wide_runs     1.000000    -0.008703\n",
       "noball_runs  -0.008703     1.000000"
      ]
     },
     "execution_count": 76,
     "metadata": {},
     "output_type": "execute_result"
    }
   ],
   "source": [
    "correlation_wides_noballs"
   ]
  },
  {
   "cell_type": "code",
   "execution_count": null,
   "id": "d8a9b160",
   "metadata": {},
   "outputs": [],
   "source": [
    "# Interpretation:The number of wides and the number of no balls bowled generally show a positive correlation, indicating that teams with more wides tend to also bowl more no balls."
   ]
  },
  {
   "cell_type": "code",
   "execution_count": 77,
   "id": "e866d18d",
   "metadata": {},
   "outputs": [],
   "source": [
    "# Which batting team has the highest number of centuries?"
   ]
  },
  {
   "cell_type": "code",
   "execution_count": 78,
   "id": "1ad04148",
   "metadata": {},
   "outputs": [],
   "source": [
    "batsman_match_runs = df1.groupby(['match_id', 'batting_team', 'batsman'])['batsman_runs'].sum()\n",
    "centuries = batsman_match_runs[batsman_match_runs >= 100]\n",
    "centuries_per_team = centuries.reset_index().groupby('batting_team')['batsman_runs'].count()"
   ]
  },
  {
   "cell_type": "code",
   "execution_count": 79,
   "id": "60a9f271",
   "metadata": {},
   "outputs": [
    {
     "data": {
      "text/plain": [
       "batting_team\n",
       "Chennai Super Kings             5\n",
       "Deccan Chargers                 2\n",
       "Delhi Daredevils                7\n",
       "Kings XI Punjab                 9\n",
       "Kolkata Knight Riders           1\n",
       "Mumbai Indians                  4\n",
       "Rajasthan Royals                4\n",
       "Rising Pune Supergiant          1\n",
       "Rising Pune Supergiants         1\n",
       "Royal Challengers Bangalore    12\n",
       "Sunrisers Hyderabad             1\n",
       "Name: batsman_runs, dtype: int64"
      ]
     },
     "execution_count": 79,
     "metadata": {},
     "output_type": "execute_result"
    }
   ],
   "source": [
    "centuries_per_team"
   ]
  },
  {
   "cell_type": "code",
   "execution_count": 80,
   "id": "a353d500",
   "metadata": {},
   "outputs": [],
   "source": [
    "# How does the number of wides vary with the over number?"
   ]
  },
  {
   "cell_type": "code",
   "execution_count": 81,
   "id": "5ea2fc00",
   "metadata": {},
   "outputs": [],
   "source": [
    "wides_per_over = df1.groupby('over')['wide_runs'].sum()"
   ]
  },
  {
   "cell_type": "code",
   "execution_count": 82,
   "id": "630b64f5",
   "metadata": {},
   "outputs": [
    {
     "data": {
      "text/plain": [
       "over\n",
       "1     481\n",
       "2     442\n",
       "3     359\n",
       "4     295\n",
       "5     279\n",
       "6     307\n",
       "7     330\n",
       "8     261\n",
       "9     255\n",
       "10    227\n",
       "11    182\n",
       "12    220\n",
       "13    241\n",
       "14    224\n",
       "15    248\n",
       "16    254\n",
       "17    264\n",
       "18    271\n",
       "19    264\n",
       "20    238\n",
       "Name: wide_runs, dtype: int64"
      ]
     },
     "execution_count": 82,
     "metadata": {},
     "output_type": "execute_result"
    }
   ],
   "source": [
    "wides_per_over"
   ]
  },
  {
   "cell_type": "code",
   "execution_count": 83,
   "id": "4775788a",
   "metadata": {},
   "outputs": [],
   "source": [
    "# What is the average number of runs scored per inning in matches with a super over?"
   ]
  },
  {
   "cell_type": "code",
   "execution_count": 96,
   "id": "9a0e3f07",
   "metadata": {},
   "outputs": [
    {
     "name": "stdout",
     "output_type": "stream",
     "text": [
      "Average runs per inning in matches with a super over: nan\n"
     ]
    }
   ],
   "source": [
    "super_over_matches = df1[df1['over'] > 20]['match_id'].unique()\n",
    "super_over_data = df1[df1['match_id'].isin(super_over_matches)]\n",
    "total_runs_per_inning = super_over_data.groupby(['match_id', 'inning'])['total_runs'].sum()\n",
    "average_runs_per_inning_super_over = total_runs_per_inning.mean()\n",
    "print(f\"Average runs per inning in matches with a super over: {average_runs_per_inning_super_over}\")"
   ]
  },
  {
   "cell_type": "code",
   "execution_count": 87,
   "id": "138c3cd4",
   "metadata": {},
   "outputs": [],
   "source": [
    "# How does the number of extras vary with the over number?"
   ]
  },
  {
   "cell_type": "code",
   "execution_count": 88,
   "id": "fe1e2d12",
   "metadata": {},
   "outputs": [],
   "source": [
    "extras_per_over = df1.groupby('over')['total_extras'].sum()"
   ]
  },
  {
   "cell_type": "code",
   "execution_count": 89,
   "id": "51fb244f",
   "metadata": {},
   "outputs": [
    {
     "data": {
      "text/plain": [
       "over\n",
       "1     768\n",
       "2     730\n",
       "3     629\n",
       "4     562\n",
       "5     495\n",
       "6     582\n",
       "7     553\n",
       "8     465\n",
       "9     459\n",
       "10    437\n",
       "11    379\n",
       "12    395\n",
       "13    451\n",
       "14    426\n",
       "15    425\n",
       "16    458\n",
       "17    548\n",
       "18    531\n",
       "19    527\n",
       "20    565\n",
       "Name: total_extras, dtype: int64"
      ]
     },
     "execution_count": 89,
     "metadata": {},
     "output_type": "execute_result"
    }
   ],
   "source": [
    "extras_per_over"
   ]
  },
  {
   "cell_type": "code",
   "execution_count": 90,
   "id": "9e3abd70",
   "metadata": {},
   "outputs": [],
   "source": [
    "# Which bowler has the highest economy rate?"
   ]
  },
  {
   "cell_type": "code",
   "execution_count": 91,
   "id": "1a4562d7",
   "metadata": {},
   "outputs": [
    {
     "data": {
      "text/plain": [
       "('I Malhotra', 3.8333333333333335)"
      ]
     },
     "execution_count": 91,
     "metadata": {},
     "output_type": "execute_result"
    }
   ],
   "source": [
    "economy_rate = df1.groupby('bowler').apply(lambda x: x['total_runs'].sum() / x['over'].count())\n",
    "highest_economy_bowler = economy_rate.idxmax()\n",
    "highest_economy_rate = economy_rate.max()\n",
    "highest_economy_bowler, highest_economy_rate"
   ]
  },
  {
   "cell_type": "code",
   "execution_count": 92,
   "id": "1bdcd3c1",
   "metadata": {},
   "outputs": [],
   "source": [
    "# How does the number of dismissals vary across different dismissal kinds?"
   ]
  },
  {
   "cell_type": "code",
   "execution_count": 93,
   "id": "f6527119",
   "metadata": {},
   "outputs": [
    {
     "data": {
      "text/plain": [
       "dismissal_kind\n",
       "caught                   4373\n",
       "bowled                   1382\n",
       "run out                   755\n",
       "lbw                       455\n",
       "stumped                   243\n",
       "caught and bowled         211\n",
       "retired hurt                9\n",
       "hit wicket                  9\n",
       "obstructing the field       1\n",
       "Name: count, dtype: int64"
      ]
     },
     "execution_count": 93,
     "metadata": {},
     "output_type": "execute_result"
    }
   ],
   "source": [
    "dismissal_variation = df1['dismissal_kind'].value_counts()\n",
    "dismissal_variation"
   ]
  },
  {
   "cell_type": "code",
   "execution_count": 94,
   "id": "1cdfb9fe",
   "metadata": {},
   "outputs": [],
   "source": [
    "# What is the distribution of runs scored by each batting team in super overs?"
   ]
  },
  {
   "cell_type": "code",
   "execution_count": 102,
   "id": "a1a18abc",
   "metadata": {},
   "outputs": [
    {
     "name": "stdout",
     "output_type": "stream",
     "text": [
      "Distribution of runs scored by each batting team in super overs:\n",
      "Series([], Name: total_runs, dtype: int64)\n"
     ]
    }
   ],
   "source": [
    "super_over_deliveries = df1[df1['over'] > 20]\n",
    "super_over_runs_distribution = super_over_deliveries.groupby('batting_team')['total_runs'].sum()\n",
    "print(\"Distribution of runs scored by each batting team in super overs:\")\n",
    "print(super_over_runs_distribution)"
   ]
  }
 ],
 "metadata": {
  "kernelspec": {
   "display_name": "Python 3 (ipykernel)",
   "language": "python",
   "name": "python3"
  },
  "language_info": {
   "codemirror_mode": {
    "name": "ipython",
    "version": 3
   },
   "file_extension": ".py",
   "mimetype": "text/x-python",
   "name": "python",
   "nbconvert_exporter": "python",
   "pygments_lexer": "ipython3",
   "version": "3.11.5"
  }
 },
 "nbformat": 4,
 "nbformat_minor": 5
}
